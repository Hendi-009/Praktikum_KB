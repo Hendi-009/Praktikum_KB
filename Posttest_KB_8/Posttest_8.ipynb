{
 "cells": [
  {
   "cell_type": "markdown",
   "source": [
    "# Posttest_7\n",
    "Nama  : Hendi\n",
    "NIM   : 2009106009\n",
    "Kelas : Praktikum Kecerdasn Buatan A1 2020"
   ],
   "metadata": {
    "collapsed": false
   }
  },
  {
   "cell_type": "markdown",
   "source": [
    "## Klasifikasi Dataset Iris sklearn"
   ],
   "metadata": {
    "collapsed": false
   }
  },
  {
   "cell_type": "markdown",
   "source": [
    "## Import Library"
   ],
   "metadata": {
    "collapsed": false
   }
  },
  {
   "cell_type": "code",
   "execution_count": 22,
   "outputs": [],
   "source": [
    "import numpy as np\n",
    "from sklearn.datasets import load_iris\n",
    "from sklearn.model_selection import train_test_split\n",
    "from sklearn.preprocessing import OneHotEncoder\n",
    "from keras.layers import Dense\n",
    "from keras.optimizers import Adam\n",
    "from keras.models import Sequential"
   ],
   "metadata": {
    "collapsed": false
   }
  },
  {
   "cell_type": "markdown",
   "source": [
    "## PreProcessing"
   ],
   "metadata": {
    "collapsed": false
   }
  },
  {
   "cell_type": "code",
   "execution_count": 23,
   "outputs": [],
   "source": [
    "df = load_iris()"
   ],
   "metadata": {
    "collapsed": false
   }
  },
  {
   "cell_type": "code",
   "execution_count": 24,
   "outputs": [
    {
     "name": "stdout",
     "output_type": "stream",
     "text": [
      "Example data: \n",
      "[[5.1 3.5 1.4 0.2]\n",
      " [4.9 3.  1.4 0.2]\n",
      " [4.7 3.2 1.3 0.2]\n",
      " [4.6 3.1 1.5 0.2]\n",
      " [5.  3.6 1.4 0.2]]\n"
     ]
    }
   ],
   "source": [
    "print('Example data: ')\n",
    "print(df.data[:5])"
   ],
   "metadata": {
    "collapsed": false
   }
  },
  {
   "cell_type": "code",
   "execution_count": 25,
   "outputs": [
    {
     "name": "stdout",
     "output_type": "stream",
     "text": [
      "Example labels: \n",
      "[0 0 0 0 0]\n"
     ]
    }
   ],
   "source": [
    "print('Example labels: ')\n",
    "print(df.target[:5])"
   ],
   "metadata": {
    "collapsed": false
   }
  },
  {
   "cell_type": "markdown",
   "source": [
    "### Reshape"
   ],
   "metadata": {
    "collapsed": false
   }
  },
  {
   "cell_type": "code",
   "execution_count": 26,
   "outputs": [],
   "source": [
    "x = df.data\n",
    "yx = df.target.reshape(-1, 1)"
   ],
   "metadata": {
    "collapsed": false
   }
  },
  {
   "cell_type": "markdown",
   "source": [
    "### One Hot Encode"
   ],
   "metadata": {
    "collapsed": false
   }
  },
  {
   "cell_type": "code",
   "execution_count": 27,
   "outputs": [],
   "source": [
    "encoder = OneHotEncoder(sparse=False)\n",
    "y = encoder.fit_transform(yx)"
   ],
   "metadata": {
    "collapsed": false
   }
  },
  {
   "cell_type": "markdown",
   "source": [
    "### Splitdata"
   ],
   "metadata": {
    "collapsed": false
   }
  },
  {
   "cell_type": "code",
   "execution_count": 28,
   "outputs": [],
   "source": [
    "x_train, x_test, y_train, y_test = train_test_split(x, y, test_size=0.3)"
   ],
   "metadata": {
    "collapsed": false
   }
  },
  {
   "cell_type": "markdown",
   "source": [
    "## Modelling"
   ],
   "metadata": {
    "collapsed": false
   }
  },
  {
   "cell_type": "markdown",
   "source": [
    "### Sequential"
   ],
   "metadata": {
    "collapsed": false
   }
  },
  {
   "cell_type": "code",
   "execution_count": 29,
   "outputs": [],
   "source": [
    "model = Sequential()\n",
    "\n",
    "model.add(Dense(10, input_shape=(4,), activation='relu', name='var1'))\n",
    "model.add(Dense(10, activation='relu', name='var2'))\n",
    "model.add(Dense(3, activation='softmax', name='output'))"
   ],
   "metadata": {
    "collapsed": false
   }
  },
  {
   "cell_type": "markdown",
   "source": [
    "### Compile"
   ],
   "metadata": {
    "collapsed": false
   }
  },
  {
   "cell_type": "code",
   "execution_count": 30,
   "outputs": [
    {
     "name": "stderr",
     "output_type": "stream",
     "text": [
      "C:\\Users\\ROG\\PycharmProjects\\A1-20\\Hendi-009\\lib\\site-packages\\keras\\optimizers\\optimizer_v2\\adam.py:114: UserWarning: The `lr` argument is deprecated, use `learning_rate` instead.\n",
      "  super().__init__(name, **kwargs)\n"
     ]
    }
   ],
   "source": [
    "optimizer = Adam(lr=0.001)\n",
    "model.compile(optimizer, loss='categorical_crossentropy', metrics=['accuracy'])"
   ],
   "metadata": {
    "collapsed": false
   }
  },
  {
   "cell_type": "code",
   "execution_count": 31,
   "outputs": [
    {
     "name": "stdout",
     "output_type": "stream",
     "text": [
      "Summary: \n",
      "Model: \"sequential_1\"\n",
      "_________________________________________________________________\n",
      " Layer (type)                Output Shape              Param #   \n",
      "=================================================================\n",
      " var1 (Dense)                (None, 10)                50        \n",
      "                                                                 \n",
      " var2 (Dense)                (None, 10)                110       \n",
      "                                                                 \n",
      " output (Dense)              (None, 3)                 33        \n",
      "                                                                 \n",
      "=================================================================\n",
      "Total params: 193\n",
      "Trainable params: 193\n",
      "Non-trainable params: 0\n",
      "_________________________________________________________________\n",
      "None\n"
     ]
    }
   ],
   "source": [
    "print('Summary: ')\n",
    "print(model.summary())"
   ],
   "metadata": {
    "collapsed": false
   }
  },
  {
   "cell_type": "markdown",
   "source": [
    "## Training"
   ],
   "metadata": {
    "collapsed": false
   }
  },
  {
   "cell_type": "code",
   "execution_count": 32,
   "outputs": [
    {
     "name": "stdout",
     "output_type": "stream",
     "text": [
      "Epoch 1/20\n",
      "10/10 - 1s - loss: 1.0444 - accuracy: 0.3333 - val_loss: 1.0165 - val_accuracy: 0.3533 - 921ms/epoch - 92ms/step\n",
      "Epoch 2/20\n",
      "10/10 - 0s - loss: 0.9968 - accuracy: 0.4857 - val_loss: 0.9792 - val_accuracy: 0.6133 - 65ms/epoch - 6ms/step\n",
      "Epoch 3/20\n",
      "10/10 - 0s - loss: 0.9609 - accuracy: 0.7524 - val_loss: 0.9450 - val_accuracy: 0.8333 - 64ms/epoch - 6ms/step\n",
      "Epoch 4/20\n",
      "10/10 - 0s - loss: 0.9283 - accuracy: 0.8476 - val_loss: 0.9109 - val_accuracy: 0.8133 - 72ms/epoch - 7ms/step\n",
      "Epoch 5/20\n",
      "10/10 - 0s - loss: 0.8930 - accuracy: 0.8286 - val_loss: 0.8741 - val_accuracy: 0.7533 - 64ms/epoch - 6ms/step\n",
      "Epoch 6/20\n",
      "10/10 - 0s - loss: 0.8539 - accuracy: 0.7714 - val_loss: 0.8316 - val_accuracy: 0.7800 - 65ms/epoch - 6ms/step\n",
      "Epoch 7/20\n",
      "10/10 - 0s - loss: 0.8122 - accuracy: 0.7905 - val_loss: 0.7926 - val_accuracy: 0.7800 - 56ms/epoch - 6ms/step\n",
      "Epoch 8/20\n",
      "10/10 - 0s - loss: 0.7761 - accuracy: 0.7714 - val_loss: 0.7579 - val_accuracy: 0.7800 - 64ms/epoch - 6ms/step\n",
      "Epoch 9/20\n",
      "10/10 - 0s - loss: 0.7417 - accuracy: 0.8000 - val_loss: 0.7228 - val_accuracy: 0.7933 - 64ms/epoch - 6ms/step\n",
      "Epoch 10/20\n",
      "10/10 - 0s - loss: 0.7062 - accuracy: 0.8095 - val_loss: 0.6900 - val_accuracy: 0.8133 - 64ms/epoch - 6ms/step\n",
      "Epoch 11/20\n",
      "10/10 - 0s - loss: 0.6732 - accuracy: 0.8286 - val_loss: 0.6579 - val_accuracy: 0.8200 - 56ms/epoch - 6ms/step\n",
      "Epoch 12/20\n",
      "10/10 - 0s - loss: 0.6427 - accuracy: 0.8286 - val_loss: 0.6278 - val_accuracy: 0.8200 - 56ms/epoch - 6ms/step\n",
      "Epoch 13/20\n",
      "10/10 - 0s - loss: 0.6137 - accuracy: 0.8381 - val_loss: 0.5999 - val_accuracy: 0.8400 - 92ms/epoch - 9ms/step\n",
      "Epoch 14/20\n",
      "10/10 - 0s - loss: 0.5866 - accuracy: 0.8762 - val_loss: 0.5745 - val_accuracy: 0.8733 - 64ms/epoch - 6ms/step\n",
      "Epoch 15/20\n",
      "10/10 - 0s - loss: 0.5618 - accuracy: 0.8857 - val_loss: 0.5505 - val_accuracy: 0.8867 - 64ms/epoch - 6ms/step\n",
      "Epoch 16/20\n",
      "10/10 - 0s - loss: 0.5389 - accuracy: 0.9048 - val_loss: 0.5284 - val_accuracy: 0.8933 - 73ms/epoch - 7ms/step\n",
      "Epoch 17/20\n",
      "10/10 - 0s - loss: 0.5181 - accuracy: 0.9143 - val_loss: 0.5077 - val_accuracy: 0.9067 - 65ms/epoch - 7ms/step\n",
      "Epoch 18/20\n",
      "10/10 - 0s - loss: 0.4983 - accuracy: 0.9238 - val_loss: 0.4894 - val_accuracy: 0.8933 - 56ms/epoch - 6ms/step\n",
      "Epoch 19/20\n",
      "10/10 - 0s - loss: 0.4791 - accuracy: 0.9143 - val_loss: 0.4711 - val_accuracy: 0.9133 - 65ms/epoch - 6ms/step\n",
      "Epoch 20/20\n",
      "10/10 - 0s - loss: 0.4616 - accuracy: 0.9619 - val_loss: 0.4550 - val_accuracy: 0.9533 - 71ms/epoch - 7ms/step\n"
     ]
    }
   ],
   "source": [
    "history = model.fit(x_train, y_train, verbose=2, steps_per_epoch=10, epochs=20, validation_data=(x, y))"
   ],
   "metadata": {
    "collapsed": false
   }
  },
  {
   "cell_type": "code",
   "execution_count": 33,
   "outputs": [
    {
     "name": "stdout",
     "output_type": "stream",
     "text": [
      "Akurasi validasi : 0.95333331823349\n"
     ]
    }
   ],
   "source": [
    "print(\"Akurasi validasi :\", history.history[\"val_accuracy\"][-1])"
   ],
   "metadata": {
    "collapsed": false
   }
  },
  {
   "cell_type": "markdown",
   "source": [
    "## Evaluasi"
   ],
   "metadata": {
    "collapsed": false
   }
  },
  {
   "cell_type": "code",
   "execution_count": 34,
   "outputs": [
    {
     "name": "stdout",
     "output_type": "stream",
     "text": [
      "2/2 [==============================] - 0s 0s/step - loss: 0.4603 - accuracy: 0.9111\n",
      "Hasil Tes Loss: 0.460297\n",
      "Hasil Tes Akurasi : 0.911111\n"
     ]
    }
   ],
   "source": [
    "result = model.evaluate(x_test, y_test)\n",
    "print('Hasil Tes Loss: {:4f}'.format(result[0]))\n",
    "print('Hasil Tes Akurasi : {:4f}'.format(result[1]))"
   ],
   "metadata": {
    "collapsed": false
   }
  }
 ],
 "metadata": {
  "kernelspec": {
   "display_name": "Python 3",
   "language": "python",
   "name": "python3"
  },
  "language_info": {
   "codemirror_mode": {
    "name": "ipython",
    "version": 2
   },
   "file_extension": ".py",
   "mimetype": "text/x-python",
   "name": "python",
   "nbconvert_exporter": "python",
   "pygments_lexer": "ipython2",
   "version": "2.7.6"
  }
 },
 "nbformat": 4,
 "nbformat_minor": 0
}
