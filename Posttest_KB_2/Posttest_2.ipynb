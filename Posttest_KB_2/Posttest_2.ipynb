{
 "cells": [
  {
   "cell_type": "markdown",
   "source": [
    "# Posttest 2\n",
    "\n",
    "Nama    : Hendi\n",
    "NIM     : 2009106009\n",
    "Kelas   : Praktikum Kecerdasn Buatan A1 2020"
   ],
   "metadata": {
    "collapsed": false
   }
  },
  {
   "cell_type": "code",
   "execution_count": 11,
   "outputs": [],
   "source": [
    "import numpy as np\n",
    "import pandas as pd\n",
    "from tabulate import tabulate"
   ],
   "metadata": {
    "collapsed": false
   }
  },
  {
   "cell_type": "markdown",
   "source": [
    "## Dataset"
   ],
   "metadata": {
    "collapsed": false
   }
  },
  {
   "cell_type": "code",
   "execution_count": 12,
   "outputs": [
    {
     "data": {
      "text/plain": "       Applicant_ID Applicant_Gender  Owned_Car  Owned_Realty  Total_Children  \\\n0           5008806          M                1             1               0   \n1           5008808          F                0             1               0   \n2           5008809          F                0             1               0   \n3           5008810          F                0             1               0   \n4           5008811          F                0             1               0   \n...             ...              ...        ...           ...             ...   \n25123       5150482          F                1             1               1   \n25124       5150483          F                1             1               1   \n25125       5150484          F                1             1               1   \n25126       5150485          F                1             1               1   \n25127       5150487          M                1             0               0   \n\n       Total_Income                                        Income_Type  \\\n0            112500  Working                                       ...   \n1            270000  Commercial associate                          ...   \n2            270000  Commercial associate                          ...   \n3            270000  Commercial associate                          ...   \n4            270000  Commercial associate                          ...   \n...             ...                                                ...   \n25123        157500  Working                                       ...   \n25124        157500  Working                                       ...   \n25125        157500  Working                                       ...   \n25126        157500  Working                                       ...   \n25127        202500  Working                                       ...   \n\n                                          Education_Type  \\\n0      Secondary / secondary special                 ...   \n1      Secondary / secondary special                 ...   \n2      Secondary / secondary special                 ...   \n3      Secondary / secondary special                 ...   \n4      Secondary / secondary special                 ...   \n...                                                  ...   \n25123  Secondary / secondary special                 ...   \n25124  Secondary / secondary special                 ...   \n25125  Secondary / secondary special                 ...   \n25126  Secondary / secondary special                 ...   \n25127  Secondary / secondary special                 ...   \n\n                                           Family_Status  \\\n0      Married                                       ...   \n1      Single / not married                          ...   \n2      Single / not married                          ...   \n3      Single / not married                          ...   \n4      Single / not married                          ...   \n...                                                  ...   \n25123  Married                                       ...   \n25124  Married                                       ...   \n25125  Married                                       ...   \n25126  Married                                       ...   \n25127  Married                                       ...   \n\n                                            Housing_Type  ...  \\\n0      House / apartment                             ...  ...   \n1      House / apartment                             ...  ...   \n2      House / apartment                             ...  ...   \n3      House / apartment                             ...  ...   \n4      House / apartment                             ...  ...   \n...                                                  ...  ...   \n25123  House / apartment                             ...  ...   \n25124  House / apartment                             ...  ...   \n25125  House / apartment                             ...  ...   \n25126  House / apartment                             ...  ...   \n25127  House / apartment                             ...  ...   \n\n       Owned_Work_Phone  Owned_Phone  Owned_Email  \\\n0                     0            0            0   \n1                     0            1            1   \n2                     0            1            1   \n3                     0            1            1   \n4                     0            1            1   \n...                 ...          ...          ...   \n25123                 0            0            0   \n25124                 0            0            0   \n25125                 0            0            0   \n25126                 0            0            0   \n25127                 0            0            0   \n\n                                               Job_Title Total_Family_Members  \\\n0      Security staff                                ...                    2   \n1      Sales staff                                   ...                    1   \n2      Sales staff                                   ...                    1   \n3      Sales staff                                   ...                    1   \n4      Sales staff                                   ...                    1   \n...                                                  ...                  ...   \n25123  Core staff                                    ...                    3   \n25124  Core staff                                    ...                    3   \n25125  Core staff                                    ...                    3   \n25126  Core staff                                    ...                    3   \n25127  Drivers                                       ...                    2   \n\n       Applicant_Age  Years_of_Working  Total_Bad_Debt  Total_Good_Debt  \\\n0                 59                 4               0               30   \n1                 53                 9               0                5   \n2                 53                 9               0                5   \n3                 53                 9               0               27   \n4                 53                 9               0               39   \n...              ...               ...             ...              ...   \n25123             30                 5               0               18   \n25124             30                 5               0               18   \n25125             30                 5               0               13   \n25126             30                 5               0                2   \n25127             54                 6               0               30   \n\n       Status  \n0           1  \n1           1  \n2           1  \n3           1  \n4           1  \n...       ...  \n25123       1  \n25124       1  \n25125       1  \n25126       1  \n25127       1  \n\n[25128 rows x 21 columns]",
      "text/html": "<div>\n<style scoped>\n    .dataframe tbody tr th:only-of-type {\n        vertical-align: middle;\n    }\n\n    .dataframe tbody tr th {\n        vertical-align: top;\n    }\n\n    .dataframe thead th {\n        text-align: right;\n    }\n</style>\n<table border=\"1\" class=\"dataframe\">\n  <thead>\n    <tr style=\"text-align: right;\">\n      <th></th>\n      <th>Applicant_ID</th>\n      <th>Applicant_Gender</th>\n      <th>Owned_Car</th>\n      <th>Owned_Realty</th>\n      <th>Total_Children</th>\n      <th>Total_Income</th>\n      <th>Income_Type</th>\n      <th>Education_Type</th>\n      <th>Family_Status</th>\n      <th>Housing_Type</th>\n      <th>...</th>\n      <th>Owned_Work_Phone</th>\n      <th>Owned_Phone</th>\n      <th>Owned_Email</th>\n      <th>Job_Title</th>\n      <th>Total_Family_Members</th>\n      <th>Applicant_Age</th>\n      <th>Years_of_Working</th>\n      <th>Total_Bad_Debt</th>\n      <th>Total_Good_Debt</th>\n      <th>Status</th>\n    </tr>\n  </thead>\n  <tbody>\n    <tr>\n      <th>0</th>\n      <td>5008806</td>\n      <td>M</td>\n      <td>1</td>\n      <td>1</td>\n      <td>0</td>\n      <td>112500</td>\n      <td>Working                                       ...</td>\n      <td>Secondary / secondary special                 ...</td>\n      <td>Married                                       ...</td>\n      <td>House / apartment                             ...</td>\n      <td>...</td>\n      <td>0</td>\n      <td>0</td>\n      <td>0</td>\n      <td>Security staff                                ...</td>\n      <td>2</td>\n      <td>59</td>\n      <td>4</td>\n      <td>0</td>\n      <td>30</td>\n      <td>1</td>\n    </tr>\n    <tr>\n      <th>1</th>\n      <td>5008808</td>\n      <td>F</td>\n      <td>0</td>\n      <td>1</td>\n      <td>0</td>\n      <td>270000</td>\n      <td>Commercial associate                          ...</td>\n      <td>Secondary / secondary special                 ...</td>\n      <td>Single / not married                          ...</td>\n      <td>House / apartment                             ...</td>\n      <td>...</td>\n      <td>0</td>\n      <td>1</td>\n      <td>1</td>\n      <td>Sales staff                                   ...</td>\n      <td>1</td>\n      <td>53</td>\n      <td>9</td>\n      <td>0</td>\n      <td>5</td>\n      <td>1</td>\n    </tr>\n    <tr>\n      <th>2</th>\n      <td>5008809</td>\n      <td>F</td>\n      <td>0</td>\n      <td>1</td>\n      <td>0</td>\n      <td>270000</td>\n      <td>Commercial associate                          ...</td>\n      <td>Secondary / secondary special                 ...</td>\n      <td>Single / not married                          ...</td>\n      <td>House / apartment                             ...</td>\n      <td>...</td>\n      <td>0</td>\n      <td>1</td>\n      <td>1</td>\n      <td>Sales staff                                   ...</td>\n      <td>1</td>\n      <td>53</td>\n      <td>9</td>\n      <td>0</td>\n      <td>5</td>\n      <td>1</td>\n    </tr>\n    <tr>\n      <th>3</th>\n      <td>5008810</td>\n      <td>F</td>\n      <td>0</td>\n      <td>1</td>\n      <td>0</td>\n      <td>270000</td>\n      <td>Commercial associate                          ...</td>\n      <td>Secondary / secondary special                 ...</td>\n      <td>Single / not married                          ...</td>\n      <td>House / apartment                             ...</td>\n      <td>...</td>\n      <td>0</td>\n      <td>1</td>\n      <td>1</td>\n      <td>Sales staff                                   ...</td>\n      <td>1</td>\n      <td>53</td>\n      <td>9</td>\n      <td>0</td>\n      <td>27</td>\n      <td>1</td>\n    </tr>\n    <tr>\n      <th>4</th>\n      <td>5008811</td>\n      <td>F</td>\n      <td>0</td>\n      <td>1</td>\n      <td>0</td>\n      <td>270000</td>\n      <td>Commercial associate                          ...</td>\n      <td>Secondary / secondary special                 ...</td>\n      <td>Single / not married                          ...</td>\n      <td>House / apartment                             ...</td>\n      <td>...</td>\n      <td>0</td>\n      <td>1</td>\n      <td>1</td>\n      <td>Sales staff                                   ...</td>\n      <td>1</td>\n      <td>53</td>\n      <td>9</td>\n      <td>0</td>\n      <td>39</td>\n      <td>1</td>\n    </tr>\n    <tr>\n      <th>...</th>\n      <td>...</td>\n      <td>...</td>\n      <td>...</td>\n      <td>...</td>\n      <td>...</td>\n      <td>...</td>\n      <td>...</td>\n      <td>...</td>\n      <td>...</td>\n      <td>...</td>\n      <td>...</td>\n      <td>...</td>\n      <td>...</td>\n      <td>...</td>\n      <td>...</td>\n      <td>...</td>\n      <td>...</td>\n      <td>...</td>\n      <td>...</td>\n      <td>...</td>\n      <td>...</td>\n    </tr>\n    <tr>\n      <th>25123</th>\n      <td>5150482</td>\n      <td>F</td>\n      <td>1</td>\n      <td>1</td>\n      <td>1</td>\n      <td>157500</td>\n      <td>Working                                       ...</td>\n      <td>Secondary / secondary special                 ...</td>\n      <td>Married                                       ...</td>\n      <td>House / apartment                             ...</td>\n      <td>...</td>\n      <td>0</td>\n      <td>0</td>\n      <td>0</td>\n      <td>Core staff                                    ...</td>\n      <td>3</td>\n      <td>30</td>\n      <td>5</td>\n      <td>0</td>\n      <td>18</td>\n      <td>1</td>\n    </tr>\n    <tr>\n      <th>25124</th>\n      <td>5150483</td>\n      <td>F</td>\n      <td>1</td>\n      <td>1</td>\n      <td>1</td>\n      <td>157500</td>\n      <td>Working                                       ...</td>\n      <td>Secondary / secondary special                 ...</td>\n      <td>Married                                       ...</td>\n      <td>House / apartment                             ...</td>\n      <td>...</td>\n      <td>0</td>\n      <td>0</td>\n      <td>0</td>\n      <td>Core staff                                    ...</td>\n      <td>3</td>\n      <td>30</td>\n      <td>5</td>\n      <td>0</td>\n      <td>18</td>\n      <td>1</td>\n    </tr>\n    <tr>\n      <th>25125</th>\n      <td>5150484</td>\n      <td>F</td>\n      <td>1</td>\n      <td>1</td>\n      <td>1</td>\n      <td>157500</td>\n      <td>Working                                       ...</td>\n      <td>Secondary / secondary special                 ...</td>\n      <td>Married                                       ...</td>\n      <td>House / apartment                             ...</td>\n      <td>...</td>\n      <td>0</td>\n      <td>0</td>\n      <td>0</td>\n      <td>Core staff                                    ...</td>\n      <td>3</td>\n      <td>30</td>\n      <td>5</td>\n      <td>0</td>\n      <td>13</td>\n      <td>1</td>\n    </tr>\n    <tr>\n      <th>25126</th>\n      <td>5150485</td>\n      <td>F</td>\n      <td>1</td>\n      <td>1</td>\n      <td>1</td>\n      <td>157500</td>\n      <td>Working                                       ...</td>\n      <td>Secondary / secondary special                 ...</td>\n      <td>Married                                       ...</td>\n      <td>House / apartment                             ...</td>\n      <td>...</td>\n      <td>0</td>\n      <td>0</td>\n      <td>0</td>\n      <td>Core staff                                    ...</td>\n      <td>3</td>\n      <td>30</td>\n      <td>5</td>\n      <td>0</td>\n      <td>2</td>\n      <td>1</td>\n    </tr>\n    <tr>\n      <th>25127</th>\n      <td>5150487</td>\n      <td>M</td>\n      <td>1</td>\n      <td>0</td>\n      <td>0</td>\n      <td>202500</td>\n      <td>Working                                       ...</td>\n      <td>Secondary / secondary special                 ...</td>\n      <td>Married                                       ...</td>\n      <td>House / apartment                             ...</td>\n      <td>...</td>\n      <td>0</td>\n      <td>0</td>\n      <td>0</td>\n      <td>Drivers                                       ...</td>\n      <td>2</td>\n      <td>54</td>\n      <td>6</td>\n      <td>0</td>\n      <td>30</td>\n      <td>1</td>\n    </tr>\n  </tbody>\n</table>\n<p>25128 rows × 21 columns</p>\n</div>"
     },
     "execution_count": 12,
     "metadata": {},
     "output_type": "execute_result"
    }
   ],
   "source": [
    "dataset = pd.read_csv(\"Application_Dataset.csv\")\n",
    "dataset"
   ],
   "metadata": {
    "collapsed": false
   }
  },
  {
   "cell_type": "markdown",
   "source": [
    "## Informasi Dataset"
   ],
   "metadata": {
    "collapsed": false
   }
  },
  {
   "cell_type": "code",
   "execution_count": 13,
   "outputs": [
    {
     "name": "stdout",
     "output_type": "stream",
     "text": [
      "<class 'pandas.core.frame.DataFrame'>\n",
      "RangeIndex: 25128 entries, 0 to 25127\n",
      "Data columns (total 21 columns):\n",
      " #   Column                Non-Null Count  Dtype \n",
      "---  ------                --------------  ----- \n",
      " 0   Applicant_ID          25128 non-null  int64 \n",
      " 1   Applicant_Gender      25128 non-null  object\n",
      " 2   Owned_Car             25128 non-null  int64 \n",
      " 3   Owned_Realty          25128 non-null  int64 \n",
      " 4   Total_Children        25128 non-null  int64 \n",
      " 5   Total_Income          25128 non-null  int64 \n",
      " 6   Income_Type           25128 non-null  object\n",
      " 7   Education_Type        25128 non-null  object\n",
      " 8   Family_Status         25128 non-null  object\n",
      " 9   Housing_Type          25128 non-null  object\n",
      " 10  Owned_Mobile_Phone    25128 non-null  int64 \n",
      " 11  Owned_Work_Phone      25128 non-null  int64 \n",
      " 12  Owned_Phone           25128 non-null  int64 \n",
      " 13  Owned_Email           25128 non-null  int64 \n",
      " 14  Job_Title             25128 non-null  object\n",
      " 15  Total_Family_Members  25128 non-null  int64 \n",
      " 16  Applicant_Age         25128 non-null  int64 \n",
      " 17  Years_of_Working      25128 non-null  int64 \n",
      " 18  Total_Bad_Debt        25128 non-null  int64 \n",
      " 19  Total_Good_Debt       25128 non-null  int64 \n",
      " 20  Status                25128 non-null  int64 \n",
      "dtypes: int64(15), object(6)\n",
      "memory usage: 4.0+ MB\n"
     ]
    }
   ],
   "source": [
    "dataset.info()"
   ],
   "metadata": {
    "collapsed": false
   }
  },
  {
   "cell_type": "markdown",
   "source": [
    "### Jumlah Record"
   ],
   "metadata": {
    "collapsed": false
   }
  },
  {
   "cell_type": "code",
   "execution_count": 14,
   "outputs": [
    {
     "name": "stdout",
     "output_type": "stream",
     "text": [
      "Jumlah record : 25128\n"
     ]
    }
   ],
   "source": [
    "jumlah_record = len(dataset.index)\n",
    "print(\"Jumlah record :\", jumlah_record)"
   ],
   "metadata": {
    "collapsed": false
   }
  },
  {
   "cell_type": "markdown",
   "source": [
    "### Nama Atribut"
   ],
   "metadata": {
    "collapsed": false
   }
  },
  {
   "cell_type": "code",
   "execution_count": 15,
   "outputs": [
    {
     "name": "stdout",
     "output_type": "stream",
     "text": [
      "Nama atribut \n",
      " Applicant_ID\n",
      "Applicant_Gender\n",
      "Owned_Car\n",
      "Owned_Realty\n",
      "Total_Children\n",
      "Total_Income\n",
      "Income_Type\n",
      "Education_Type\n",
      "Family_Status\n",
      "Housing_Type\n",
      "Owned_Mobile_Phone\n",
      "Owned_Work_Phone\n",
      "Owned_Phone\n",
      "Owned_Email\n",
      "Job_Title\n",
      "Total_Family_Members\n",
      "Applicant_Age\n",
      "Years_of_Working\n",
      "Total_Bad_Debt\n",
      "Total_Good_Debt\n",
      "Status\n"
     ]
    }
   ],
   "source": [
    "Atribut_dataset = list(dataset.columns)\n",
    "Atribut = \"\\n\".join(Atribut_dataset)\n",
    "print(\"Nama atribut\",\"\\n\", Atribut)"
   ],
   "metadata": {
    "collapsed": false
   }
  },
  {
   "cell_type": "markdown",
   "source": [
    "### Jumlah Atribut"
   ],
   "metadata": {
    "collapsed": false
   }
  },
  {
   "cell_type": "code",
   "execution_count": 16,
   "outputs": [
    {
     "name": "stdout",
     "output_type": "stream",
     "text": [
      "Jumlah atribut : 21\n"
     ]
    }
   ],
   "source": [
    "jumlah_atribut = dataset.shape[1]\n",
    "print(\"Jumlah atribut :\", jumlah_atribut)"
   ],
   "metadata": {
    "collapsed": false
   }
  },
  {
   "cell_type": "markdown",
   "source": [
    "### Tipe Atribut Objek"
   ],
   "metadata": {
    "collapsed": false
   }
  },
  {
   "cell_type": "code",
   "execution_count": 17,
   "outputs": [
    {
     "name": "stdout",
     "output_type": "stream",
     "text": [
      "Atribut tipe objek : 6\n"
     ]
    }
   ],
   "source": [
    "Tipe_objek = len(dataset.dtypes[dataset.dtypes == 'object'])\n",
    "\n",
    "print(\"Atribut tipe objek :\", Tipe_objek)"
   ],
   "metadata": {
    "collapsed": false
   }
  },
  {
   "cell_type": "markdown",
   "source": [
    "## Tipe Atribut Angka"
   ],
   "metadata": {
    "collapsed": false
   }
  },
  {
   "cell_type": "code",
   "execution_count": 18,
   "outputs": [
    {
     "name": "stdout",
     "output_type": "stream",
     "text": [
      "Atribut tipe angka : 15\n"
     ]
    }
   ],
   "source": [
    "Int = len(dataset.dtypes[dataset.dtypes == 'int64'])\n",
    "Float = len(dataset.dtypes[dataset.dtypes == 'float64'])\n",
    "Tipe_angka = Int + Float\n",
    "\n",
    "print(\"Atribut tipe angka :\", Tipe_angka)"
   ],
   "metadata": {
    "collapsed": false
   }
  },
  {
   "cell_type": "markdown",
   "source": [
    "## Tipe Atribut Nilai Null"
   ],
   "metadata": {
    "collapsed": false
   }
  },
  {
   "cell_type": "code",
   "execution_count": 19,
   "outputs": [
    {
     "name": "stdout",
     "output_type": "stream",
     "text": [
      "Atribut nilai null : 0\n"
     ]
    }
   ],
   "source": [
    "Tipe_null = dataset.isnull().any().sum()\n",
    "\n",
    "print(\"Atribut nilai null :\", Tipe_null)"
   ],
   "metadata": {
    "collapsed": false
   }
  },
  {
   "cell_type": "markdown",
   "source": [
    "## Tampilan Dalam Dictionary"
   ],
   "metadata": {
    "collapsed": false
   }
  },
  {
   "cell_type": "code",
   "execution_count": 23,
   "outputs": [
    {
     "name": "stdout",
     "output_type": "stream",
     "text": [
      "+-----------------+----------------------+----------------------+----------------------+----------------------+\n",
      "|   Jumlah record | Nama atribut         |   Atribut tipe objek |   Atribut tipe angka |   Atribut nilai null |\n",
      "|-----------------+----------------------+----------------------+----------------------+----------------------|\n",
      "|           25128 | Applicant_ID         |                    6 |                   15 |                    0 |\n",
      "|                 | Applicant_Gender     |                      |                      |                      |\n",
      "|                 | Owned_Car            |                      |                      |                      |\n",
      "|                 | Owned_Realty         |                      |                      |                      |\n",
      "|                 | Total_Children       |                      |                      |                      |\n",
      "|                 | Total_Income         |                      |                      |                      |\n",
      "|                 | Income_Type          |                      |                      |                      |\n",
      "|                 | Education_Type       |                      |                      |                      |\n",
      "|                 | Family_Status        |                      |                      |                      |\n",
      "|                 | Housing_Type         |                      |                      |                      |\n",
      "|                 | Owned_Mobile_Phone   |                      |                      |                      |\n",
      "|                 | Owned_Work_Phone     |                      |                      |                      |\n",
      "|                 | Owned_Phone          |                      |                      |                      |\n",
      "|                 | Owned_Email          |                      |                      |                      |\n",
      "|                 | Job_Title            |                      |                      |                      |\n",
      "|                 | Total_Family_Members |                      |                      |                      |\n",
      "|                 | Applicant_Age        |                      |                      |                      |\n",
      "|                 | Years_of_Working     |                      |                      |                      |\n",
      "|                 | Total_Bad_Debt       |                      |                      |                      |\n",
      "|                 | Total_Good_Debt      |                      |                      |                      |\n",
      "|                 | Status               |                      |                      |                      |\n",
      "+-----------------+----------------------+----------------------+----------------------+----------------------+\n"
     ]
    }
   ],
   "source": [
    "Dict = {\"Jumlah record\" : [jumlah_record],\n",
    "        \"Nama atribut\":[Atribut],\n",
    "        \"Atribut tipe objek\" : [Tipe_objek],\n",
    "        \"Atribut tipe angka\" : [Tipe_angka],\n",
    "        \"Atribut nilai null\" : [Tipe_null],}\n",
    "\n",
    "tabel = pd.DataFrame(Dict)\n",
    "print(tabulate(tabel, headers='keys', tablefmt='psql', showindex=False))"
   ],
   "metadata": {
    "collapsed": false
   }
  },
  {
   "cell_type": "markdown",
   "source": [
    "### Rata-Rata, Standar Deviasi, Minimum, Maksimum, Q1, Q2, dan Q3 dari Atribut Tipe Angka"
   ],
   "metadata": {
    "collapsed": false
   }
  },
  {
   "cell_type": "code",
   "execution_count": 24,
   "outputs": [
    {
     "data": {
      "text/plain": "                 Applicant_ID     Owned_Car  Owned_Realty  Total_Children  \\\nJumlah Data      2.512800e+04  25128.000000  25128.000000    25128.000000   \nmean             5.078835e+06      0.418378      0.654927        0.509472   \nStandar Deviasi  4.194378e+04      0.493303      0.475402        0.762937   \nMinimum          5.008806e+06      0.000000      0.000000        0.000000   \nQ1               5.042226e+06      0.000000      0.000000        0.000000   \nQ2               5.079004e+06      0.000000      1.000000        0.000000   \nQ3               5.115603e+06      1.000000      1.000000        1.000000   \nMaksimum         5.150487e+06      1.000000      1.000000        5.000000   \n\n                 Total_Income  Owned_Mobile_Phone  Owned_Work_Phone  \\\nJumlah Data      2.512800e+04             25128.0      25128.000000   \nmean             1.948365e+05                 1.0          0.273758   \nStandar Deviasi  1.045211e+05                 0.0          0.445895   \nMinimum          2.700000e+04                 1.0          0.000000   \nQ1               1.350000e+05                 1.0          0.000000   \nQ2               1.800000e+05                 1.0          0.000000   \nQ3               2.250000e+05                 1.0          1.000000   \nMaksimum         1.575000e+06                 1.0          1.000000   \n\n                  Owned_Phone   Owned_Email  Total_Family_Members  \\\nJumlah Data      25128.000000  25128.000000          25128.000000   \nmean                 0.292741      0.100684              2.291309   \nStandar Deviasi      0.455030      0.300916              0.928871   \nMinimum              0.000000      0.000000              1.000000   \nQ1                   0.000000      0.000000              2.000000   \nQ2                   0.000000      0.000000              2.000000   \nQ3                   1.000000      0.000000              3.000000   \nMaksimum             1.000000      1.000000              7.000000   \n\n                 Applicant_Age  Years_of_Working  Total_Bad_Debt  \\\nJumlah Data       25128.000000      25128.000000    25128.000000   \nmean                 40.995503          7.690903        0.333095   \nStandar Deviasi       9.552832          6.415007        1.569448   \nMinimum              21.000000          1.000000        0.000000   \nQ1                   33.000000          3.000000        0.000000   \nQ2                   40.000000          6.000000        0.000000   \nQ3                   48.000000         10.000000        0.000000   \nMaksimum             68.000000         44.000000       49.000000   \n\n                 Total_Good_Debt        Status  \nJumlah Data         25128.000000  25128.000000  \nmean                   21.057545      0.995185  \nStandar Deviasi        14.735347      0.069227  \nMinimum                 1.000000      0.000000  \nQ1                      9.000000      1.000000  \nQ2                     18.000000      1.000000  \nQ3                     31.000000      1.000000  \nMaksimum               61.000000      1.000000  ",
      "text/html": "<div>\n<style scoped>\n    .dataframe tbody tr th:only-of-type {\n        vertical-align: middle;\n    }\n\n    .dataframe tbody tr th {\n        vertical-align: top;\n    }\n\n    .dataframe thead th {\n        text-align: right;\n    }\n</style>\n<table border=\"1\" class=\"dataframe\">\n  <thead>\n    <tr style=\"text-align: right;\">\n      <th></th>\n      <th>Applicant_ID</th>\n      <th>Owned_Car</th>\n      <th>Owned_Realty</th>\n      <th>Total_Children</th>\n      <th>Total_Income</th>\n      <th>Owned_Mobile_Phone</th>\n      <th>Owned_Work_Phone</th>\n      <th>Owned_Phone</th>\n      <th>Owned_Email</th>\n      <th>Total_Family_Members</th>\n      <th>Applicant_Age</th>\n      <th>Years_of_Working</th>\n      <th>Total_Bad_Debt</th>\n      <th>Total_Good_Debt</th>\n      <th>Status</th>\n    </tr>\n  </thead>\n  <tbody>\n    <tr>\n      <th>Jumlah Data</th>\n      <td>2.512800e+04</td>\n      <td>25128.000000</td>\n      <td>25128.000000</td>\n      <td>25128.000000</td>\n      <td>2.512800e+04</td>\n      <td>25128.0</td>\n      <td>25128.000000</td>\n      <td>25128.000000</td>\n      <td>25128.000000</td>\n      <td>25128.000000</td>\n      <td>25128.000000</td>\n      <td>25128.000000</td>\n      <td>25128.000000</td>\n      <td>25128.000000</td>\n      <td>25128.000000</td>\n    </tr>\n    <tr>\n      <th>mean</th>\n      <td>5.078835e+06</td>\n      <td>0.418378</td>\n      <td>0.654927</td>\n      <td>0.509472</td>\n      <td>1.948365e+05</td>\n      <td>1.0</td>\n      <td>0.273758</td>\n      <td>0.292741</td>\n      <td>0.100684</td>\n      <td>2.291309</td>\n      <td>40.995503</td>\n      <td>7.690903</td>\n      <td>0.333095</td>\n      <td>21.057545</td>\n      <td>0.995185</td>\n    </tr>\n    <tr>\n      <th>Standar Deviasi</th>\n      <td>4.194378e+04</td>\n      <td>0.493303</td>\n      <td>0.475402</td>\n      <td>0.762937</td>\n      <td>1.045211e+05</td>\n      <td>0.0</td>\n      <td>0.445895</td>\n      <td>0.455030</td>\n      <td>0.300916</td>\n      <td>0.928871</td>\n      <td>9.552832</td>\n      <td>6.415007</td>\n      <td>1.569448</td>\n      <td>14.735347</td>\n      <td>0.069227</td>\n    </tr>\n    <tr>\n      <th>Minimum</th>\n      <td>5.008806e+06</td>\n      <td>0.000000</td>\n      <td>0.000000</td>\n      <td>0.000000</td>\n      <td>2.700000e+04</td>\n      <td>1.0</td>\n      <td>0.000000</td>\n      <td>0.000000</td>\n      <td>0.000000</td>\n      <td>1.000000</td>\n      <td>21.000000</td>\n      <td>1.000000</td>\n      <td>0.000000</td>\n      <td>1.000000</td>\n      <td>0.000000</td>\n    </tr>\n    <tr>\n      <th>Q1</th>\n      <td>5.042226e+06</td>\n      <td>0.000000</td>\n      <td>0.000000</td>\n      <td>0.000000</td>\n      <td>1.350000e+05</td>\n      <td>1.0</td>\n      <td>0.000000</td>\n      <td>0.000000</td>\n      <td>0.000000</td>\n      <td>2.000000</td>\n      <td>33.000000</td>\n      <td>3.000000</td>\n      <td>0.000000</td>\n      <td>9.000000</td>\n      <td>1.000000</td>\n    </tr>\n    <tr>\n      <th>Q2</th>\n      <td>5.079004e+06</td>\n      <td>0.000000</td>\n      <td>1.000000</td>\n      <td>0.000000</td>\n      <td>1.800000e+05</td>\n      <td>1.0</td>\n      <td>0.000000</td>\n      <td>0.000000</td>\n      <td>0.000000</td>\n      <td>2.000000</td>\n      <td>40.000000</td>\n      <td>6.000000</td>\n      <td>0.000000</td>\n      <td>18.000000</td>\n      <td>1.000000</td>\n    </tr>\n    <tr>\n      <th>Q3</th>\n      <td>5.115603e+06</td>\n      <td>1.000000</td>\n      <td>1.000000</td>\n      <td>1.000000</td>\n      <td>2.250000e+05</td>\n      <td>1.0</td>\n      <td>1.000000</td>\n      <td>1.000000</td>\n      <td>0.000000</td>\n      <td>3.000000</td>\n      <td>48.000000</td>\n      <td>10.000000</td>\n      <td>0.000000</td>\n      <td>31.000000</td>\n      <td>1.000000</td>\n    </tr>\n    <tr>\n      <th>Maksimum</th>\n      <td>5.150487e+06</td>\n      <td>1.000000</td>\n      <td>1.000000</td>\n      <td>5.000000</td>\n      <td>1.575000e+06</td>\n      <td>1.0</td>\n      <td>1.000000</td>\n      <td>1.000000</td>\n      <td>1.000000</td>\n      <td>7.000000</td>\n      <td>68.000000</td>\n      <td>44.000000</td>\n      <td>49.000000</td>\n      <td>61.000000</td>\n      <td>1.000000</td>\n    </tr>\n  </tbody>\n</table>\n</div>"
     },
     "execution_count": 24,
     "metadata": {},
     "output_type": "execute_result"
    }
   ],
   "source": [
    "desc = dataset.describe()\n",
    "desc.rename(index = {\"count\": \"Jumlah Data\",\n",
    "                     \"Mean\": \"Rata Rata\",\n",
    "                     \"std\": \"Standar Deviasi\",\n",
    "                     \"min\": \"Minimum\",\n",
    "                     \"25%\": \"Q1\",\n",
    "                     \"50%\": \"Q2\",\n",
    "                     \"75%\": \"Q3\",\n",
    "                     \"max\": \"Maksimum\"}, inplace = True)\n",
    "desc"
   ],
   "metadata": {
    "collapsed": false
   }
  },
  {
   "cell_type": "markdown",
   "source": [
    "### Nilai Korelasi"
   ],
   "metadata": {
    "collapsed": false
   }
  },
  {
   "cell_type": "code",
   "execution_count": 25,
   "outputs": [
    {
     "data": {
      "text/plain": "                      Applicant_ID  Owned_Car  Owned_Realty  Total_Children  \\\nApplicant_ID              1.000000  -0.025122     -0.086180        0.032139   \nOwned_Car                -0.025122   1.000000      0.005219        0.069889   \nOwned_Realty             -0.086180   0.005219      1.000000        0.021575   \nTotal_Children            0.032139   0.069889      0.021575        1.000000   \nTotal_Income             -0.019236   0.197574      0.034507       -0.015182   \nOwned_Mobile_Phone             NaN        NaN           NaN             NaN   \nOwned_Work_Phone          0.087290  -0.022982     -0.209380       -0.011658   \nOwned_Phone               0.013126  -0.024571     -0.063773       -0.021171   \nOwned_Email              -0.062862   0.000403      0.061213       -0.014728   \nTotal_Family_Members      0.024264   0.114689      0.019551        0.898460   \nApplicant_Age            -0.037259  -0.072661      0.090323       -0.265141   \nYears_of_Working         -0.022163  -0.071300      0.008389       -0.065068   \nTotal_Bad_Debt            0.021023   0.000112     -0.018068       -0.002668   \nTotal_Good_Debt           0.011464   0.035407     -0.035979       -0.011748   \nStatus                   -0.011544  -0.001604      0.002716        0.011036   \n\n                      Total_Income  Owned_Mobile_Phone  Owned_Work_Phone  \\\nApplicant_ID             -0.019236                 NaN          0.087290   \nOwned_Car                 0.197574                 NaN         -0.022982   \nOwned_Realty              0.034507                 NaN         -0.209380   \nTotal_Children           -0.015182                 NaN         -0.011658   \nTotal_Income              1.000000                 NaN         -0.090286   \nOwned_Mobile_Phone             NaN                 NaN               NaN   \nOwned_Work_Phone         -0.090286                 NaN          1.000000   \nOwned_Phone               0.010889                 NaN          0.369395   \nOwned_Email               0.076031                 NaN         -0.067214   \nTotal_Family_Members     -0.026003                 NaN          0.007215   \nApplicant_Age             0.057930                 NaN         -0.038803   \nYears_of_Working          0.019723                 NaN          0.012122   \nTotal_Bad_Debt            0.015181                 NaN          0.006804   \nTotal_Good_Debt           0.030039                 NaN          0.024817   \nStatus                   -0.003482                 NaN          0.005318   \n\n                      Owned_Phone  Owned_Email  Total_Family_Members  \\\nApplicant_ID             0.013126    -0.062862              0.024264   \nOwned_Car               -0.024571     0.000403              0.114689   \nOwned_Realty            -0.063773     0.061213              0.019551   \nTotal_Children          -0.021171    -0.014728              0.898460   \nTotal_Income             0.010889     0.076031             -0.026003   \nOwned_Mobile_Phone            NaN          NaN                   NaN   \nOwned_Work_Phone         0.369395    -0.067214              0.007215   \nOwned_Phone              1.000000     0.009116             -0.008744   \nOwned_Email              0.009116     1.000000             -0.009114   \nTotal_Family_Members    -0.008744    -0.009114              1.000000   \nApplicant_Age            0.027083    -0.061562             -0.217155   \nYears_of_Working         0.040421    -0.040552             -0.047864   \nTotal_Bad_Debt           0.009014     0.003478             -0.004211   \nTotal_Good_Debt          0.018648    -0.000005              0.013526   \nStatus                   0.004323    -0.009203              0.010056   \n\n                      Applicant_Age  Years_of_Working  Total_Bad_Debt  \\\nApplicant_ID              -0.037259         -0.022163        0.021023   \nOwned_Car                 -0.072661         -0.071300        0.000112   \nOwned_Realty               0.090323          0.008389       -0.018068   \nTotal_Children            -0.265141         -0.065068       -0.002668   \nTotal_Income               0.057930          0.019723        0.015181   \nOwned_Mobile_Phone              NaN               NaN             NaN   \nOwned_Work_Phone          -0.038803          0.012122        0.006804   \nOwned_Phone                0.027083          0.040421        0.009014   \nOwned_Email               -0.061562         -0.040552        0.003478   \nTotal_Family_Members      -0.217155         -0.047864       -0.004211   \nApplicant_Age              1.000000          0.338013       -0.007301   \nYears_of_Working           0.338013          1.000000       -0.017025   \nTotal_Bad_Debt            -0.007301         -0.017025        1.000000   \nTotal_Good_Debt            0.090722          0.086426        0.024368   \nStatus                     0.010078          0.021382       -0.458497   \n\n                      Total_Good_Debt    Status  \nApplicant_ID                 0.011464 -0.011544  \nOwned_Car                    0.035407 -0.001604  \nOwned_Realty                -0.035979  0.002716  \nTotal_Children              -0.011748  0.011036  \nTotal_Income                 0.030039 -0.003482  \nOwned_Mobile_Phone                NaN       NaN  \nOwned_Work_Phone             0.024817  0.005318  \nOwned_Phone                  0.018648  0.004323  \nOwned_Email                 -0.000005 -0.009203  \nTotal_Family_Members         0.013526  0.010056  \nApplicant_Age                0.090722  0.010078  \nYears_of_Working             0.086426  0.021382  \nTotal_Bad_Debt               0.024368 -0.458497  \nTotal_Good_Debt              1.000000  0.074516  \nStatus                       0.074516  1.000000  ",
      "text/html": "<div>\n<style scoped>\n    .dataframe tbody tr th:only-of-type {\n        vertical-align: middle;\n    }\n\n    .dataframe tbody tr th {\n        vertical-align: top;\n    }\n\n    .dataframe thead th {\n        text-align: right;\n    }\n</style>\n<table border=\"1\" class=\"dataframe\">\n  <thead>\n    <tr style=\"text-align: right;\">\n      <th></th>\n      <th>Applicant_ID</th>\n      <th>Owned_Car</th>\n      <th>Owned_Realty</th>\n      <th>Total_Children</th>\n      <th>Total_Income</th>\n      <th>Owned_Mobile_Phone</th>\n      <th>Owned_Work_Phone</th>\n      <th>Owned_Phone</th>\n      <th>Owned_Email</th>\n      <th>Total_Family_Members</th>\n      <th>Applicant_Age</th>\n      <th>Years_of_Working</th>\n      <th>Total_Bad_Debt</th>\n      <th>Total_Good_Debt</th>\n      <th>Status</th>\n    </tr>\n  </thead>\n  <tbody>\n    <tr>\n      <th>Applicant_ID</th>\n      <td>1.000000</td>\n      <td>-0.025122</td>\n      <td>-0.086180</td>\n      <td>0.032139</td>\n      <td>-0.019236</td>\n      <td>NaN</td>\n      <td>0.087290</td>\n      <td>0.013126</td>\n      <td>-0.062862</td>\n      <td>0.024264</td>\n      <td>-0.037259</td>\n      <td>-0.022163</td>\n      <td>0.021023</td>\n      <td>0.011464</td>\n      <td>-0.011544</td>\n    </tr>\n    <tr>\n      <th>Owned_Car</th>\n      <td>-0.025122</td>\n      <td>1.000000</td>\n      <td>0.005219</td>\n      <td>0.069889</td>\n      <td>0.197574</td>\n      <td>NaN</td>\n      <td>-0.022982</td>\n      <td>-0.024571</td>\n      <td>0.000403</td>\n      <td>0.114689</td>\n      <td>-0.072661</td>\n      <td>-0.071300</td>\n      <td>0.000112</td>\n      <td>0.035407</td>\n      <td>-0.001604</td>\n    </tr>\n    <tr>\n      <th>Owned_Realty</th>\n      <td>-0.086180</td>\n      <td>0.005219</td>\n      <td>1.000000</td>\n      <td>0.021575</td>\n      <td>0.034507</td>\n      <td>NaN</td>\n      <td>-0.209380</td>\n      <td>-0.063773</td>\n      <td>0.061213</td>\n      <td>0.019551</td>\n      <td>0.090323</td>\n      <td>0.008389</td>\n      <td>-0.018068</td>\n      <td>-0.035979</td>\n      <td>0.002716</td>\n    </tr>\n    <tr>\n      <th>Total_Children</th>\n      <td>0.032139</td>\n      <td>0.069889</td>\n      <td>0.021575</td>\n      <td>1.000000</td>\n      <td>-0.015182</td>\n      <td>NaN</td>\n      <td>-0.011658</td>\n      <td>-0.021171</td>\n      <td>-0.014728</td>\n      <td>0.898460</td>\n      <td>-0.265141</td>\n      <td>-0.065068</td>\n      <td>-0.002668</td>\n      <td>-0.011748</td>\n      <td>0.011036</td>\n    </tr>\n    <tr>\n      <th>Total_Income</th>\n      <td>-0.019236</td>\n      <td>0.197574</td>\n      <td>0.034507</td>\n      <td>-0.015182</td>\n      <td>1.000000</td>\n      <td>NaN</td>\n      <td>-0.090286</td>\n      <td>0.010889</td>\n      <td>0.076031</td>\n      <td>-0.026003</td>\n      <td>0.057930</td>\n      <td>0.019723</td>\n      <td>0.015181</td>\n      <td>0.030039</td>\n      <td>-0.003482</td>\n    </tr>\n    <tr>\n      <th>Owned_Mobile_Phone</th>\n      <td>NaN</td>\n      <td>NaN</td>\n      <td>NaN</td>\n      <td>NaN</td>\n      <td>NaN</td>\n      <td>NaN</td>\n      <td>NaN</td>\n      <td>NaN</td>\n      <td>NaN</td>\n      <td>NaN</td>\n      <td>NaN</td>\n      <td>NaN</td>\n      <td>NaN</td>\n      <td>NaN</td>\n      <td>NaN</td>\n    </tr>\n    <tr>\n      <th>Owned_Work_Phone</th>\n      <td>0.087290</td>\n      <td>-0.022982</td>\n      <td>-0.209380</td>\n      <td>-0.011658</td>\n      <td>-0.090286</td>\n      <td>NaN</td>\n      <td>1.000000</td>\n      <td>0.369395</td>\n      <td>-0.067214</td>\n      <td>0.007215</td>\n      <td>-0.038803</td>\n      <td>0.012122</td>\n      <td>0.006804</td>\n      <td>0.024817</td>\n      <td>0.005318</td>\n    </tr>\n    <tr>\n      <th>Owned_Phone</th>\n      <td>0.013126</td>\n      <td>-0.024571</td>\n      <td>-0.063773</td>\n      <td>-0.021171</td>\n      <td>0.010889</td>\n      <td>NaN</td>\n      <td>0.369395</td>\n      <td>1.000000</td>\n      <td>0.009116</td>\n      <td>-0.008744</td>\n      <td>0.027083</td>\n      <td>0.040421</td>\n      <td>0.009014</td>\n      <td>0.018648</td>\n      <td>0.004323</td>\n    </tr>\n    <tr>\n      <th>Owned_Email</th>\n      <td>-0.062862</td>\n      <td>0.000403</td>\n      <td>0.061213</td>\n      <td>-0.014728</td>\n      <td>0.076031</td>\n      <td>NaN</td>\n      <td>-0.067214</td>\n      <td>0.009116</td>\n      <td>1.000000</td>\n      <td>-0.009114</td>\n      <td>-0.061562</td>\n      <td>-0.040552</td>\n      <td>0.003478</td>\n      <td>-0.000005</td>\n      <td>-0.009203</td>\n    </tr>\n    <tr>\n      <th>Total_Family_Members</th>\n      <td>0.024264</td>\n      <td>0.114689</td>\n      <td>0.019551</td>\n      <td>0.898460</td>\n      <td>-0.026003</td>\n      <td>NaN</td>\n      <td>0.007215</td>\n      <td>-0.008744</td>\n      <td>-0.009114</td>\n      <td>1.000000</td>\n      <td>-0.217155</td>\n      <td>-0.047864</td>\n      <td>-0.004211</td>\n      <td>0.013526</td>\n      <td>0.010056</td>\n    </tr>\n    <tr>\n      <th>Applicant_Age</th>\n      <td>-0.037259</td>\n      <td>-0.072661</td>\n      <td>0.090323</td>\n      <td>-0.265141</td>\n      <td>0.057930</td>\n      <td>NaN</td>\n      <td>-0.038803</td>\n      <td>0.027083</td>\n      <td>-0.061562</td>\n      <td>-0.217155</td>\n      <td>1.000000</td>\n      <td>0.338013</td>\n      <td>-0.007301</td>\n      <td>0.090722</td>\n      <td>0.010078</td>\n    </tr>\n    <tr>\n      <th>Years_of_Working</th>\n      <td>-0.022163</td>\n      <td>-0.071300</td>\n      <td>0.008389</td>\n      <td>-0.065068</td>\n      <td>0.019723</td>\n      <td>NaN</td>\n      <td>0.012122</td>\n      <td>0.040421</td>\n      <td>-0.040552</td>\n      <td>-0.047864</td>\n      <td>0.338013</td>\n      <td>1.000000</td>\n      <td>-0.017025</td>\n      <td>0.086426</td>\n      <td>0.021382</td>\n    </tr>\n    <tr>\n      <th>Total_Bad_Debt</th>\n      <td>0.021023</td>\n      <td>0.000112</td>\n      <td>-0.018068</td>\n      <td>-0.002668</td>\n      <td>0.015181</td>\n      <td>NaN</td>\n      <td>0.006804</td>\n      <td>0.009014</td>\n      <td>0.003478</td>\n      <td>-0.004211</td>\n      <td>-0.007301</td>\n      <td>-0.017025</td>\n      <td>1.000000</td>\n      <td>0.024368</td>\n      <td>-0.458497</td>\n    </tr>\n    <tr>\n      <th>Total_Good_Debt</th>\n      <td>0.011464</td>\n      <td>0.035407</td>\n      <td>-0.035979</td>\n      <td>-0.011748</td>\n      <td>0.030039</td>\n      <td>NaN</td>\n      <td>0.024817</td>\n      <td>0.018648</td>\n      <td>-0.000005</td>\n      <td>0.013526</td>\n      <td>0.090722</td>\n      <td>0.086426</td>\n      <td>0.024368</td>\n      <td>1.000000</td>\n      <td>0.074516</td>\n    </tr>\n    <tr>\n      <th>Status</th>\n      <td>-0.011544</td>\n      <td>-0.001604</td>\n      <td>0.002716</td>\n      <td>0.011036</td>\n      <td>-0.003482</td>\n      <td>NaN</td>\n      <td>0.005318</td>\n      <td>0.004323</td>\n      <td>-0.009203</td>\n      <td>0.010056</td>\n      <td>0.010078</td>\n      <td>0.021382</td>\n      <td>-0.458497</td>\n      <td>0.074516</td>\n      <td>1.000000</td>\n    </tr>\n  </tbody>\n</table>\n</div>"
     },
     "execution_count": 25,
     "metadata": {},
     "output_type": "execute_result"
    }
   ],
   "source": [
    "dataset.corr()"
   ],
   "metadata": {
    "collapsed": false
   }
  },
  {
   "cell_type": "markdown",
   "source": [
    "### Atribut Tipe Angka Desimal Menjadi Desimal 3 Angka Dibelakang Koma"
   ],
   "metadata": {
    "collapsed": false
   }
  },
  {
   "cell_type": "code",
   "execution_count": 28,
   "outputs": [
    {
     "data": {
      "text/plain": "0        1.125\n1        2.700\n2        2.700\n3        2.700\n4        2.700\n         ...  \n25123    1.575\n25124    1.575\n25125    1.575\n25126    1.575\n25127    2.025\nName: Total_Income, Length: 25128, dtype: float64"
     },
     "execution_count": 28,
     "metadata": {},
     "output_type": "execute_result"
    }
   ],
   "source": [
    "dataset[\"Total_Income\"]*0.00001"
   ],
   "metadata": {
    "collapsed": false
   }
  },
  {
   "cell_type": "markdown",
   "source": [
    "### 10 Record Atribut Bertipe Angka"
   ],
   "metadata": {
    "collapsed": false
   }
  },
  {
   "cell_type": "code",
   "execution_count": 29,
   "outputs": [
    {
     "data": {
      "text/plain": "   Applicant_ID  Owned_Car  Owned_Realty  Total_Children  Total_Income  \\\n0       5008806          1             1               0        112500   \n1       5008808          0             1               0        270000   \n2       5008809          0             1               0        270000   \n3       5008810          0             1               0        270000   \n4       5008811          0             1               0        270000   \n5       5008815          1             1               0        270000   \n6       5008819          1             1               0        135000   \n7       5008820          1             1               0        135000   \n8       5008821          1             1               0        135000   \n9       5008822          1             1               0        135000   \n\n   Owned_Mobile_Phone  Owned_Work_Phone  Owned_Phone  Owned_Email  \\\n0                   1                 0            0            0   \n1                   1                 0            1            1   \n2                   1                 0            1            1   \n3                   1                 0            1            1   \n4                   1                 0            1            1   \n5                   1                 1            1            1   \n6                   1                 0            0            0   \n7                   1                 0            0            0   \n8                   1                 0            0            0   \n9                   1                 0            0            0   \n\n   Total_Family_Members  Applicant_Age  Years_of_Working  Total_Bad_Debt  \\\n0                     2             59                 4               0   \n1                     1             53                 9               0   \n2                     1             53                 9               0   \n3                     1             53                 9               0   \n4                     1             53                 9               0   \n5                     2             47                 3               0   \n6                     2             49                 4               0   \n7                     2             49                 4               0   \n8                     2             49                 4               0   \n9                     2             49                 4               0   \n\n   Total_Good_Debt  Status  \n0               30       1  \n1                5       1  \n2                5       1  \n3               27       1  \n4               39       1  \n5                6       1  \n6                8       1  \n7                9       1  \n8                9       1  \n9                9       1  ",
      "text/html": "<div>\n<style scoped>\n    .dataframe tbody tr th:only-of-type {\n        vertical-align: middle;\n    }\n\n    .dataframe tbody tr th {\n        vertical-align: top;\n    }\n\n    .dataframe thead th {\n        text-align: right;\n    }\n</style>\n<table border=\"1\" class=\"dataframe\">\n  <thead>\n    <tr style=\"text-align: right;\">\n      <th></th>\n      <th>Applicant_ID</th>\n      <th>Owned_Car</th>\n      <th>Owned_Realty</th>\n      <th>Total_Children</th>\n      <th>Total_Income</th>\n      <th>Owned_Mobile_Phone</th>\n      <th>Owned_Work_Phone</th>\n      <th>Owned_Phone</th>\n      <th>Owned_Email</th>\n      <th>Total_Family_Members</th>\n      <th>Applicant_Age</th>\n      <th>Years_of_Working</th>\n      <th>Total_Bad_Debt</th>\n      <th>Total_Good_Debt</th>\n      <th>Status</th>\n    </tr>\n  </thead>\n  <tbody>\n    <tr>\n      <th>0</th>\n      <td>5008806</td>\n      <td>1</td>\n      <td>1</td>\n      <td>0</td>\n      <td>112500</td>\n      <td>1</td>\n      <td>0</td>\n      <td>0</td>\n      <td>0</td>\n      <td>2</td>\n      <td>59</td>\n      <td>4</td>\n      <td>0</td>\n      <td>30</td>\n      <td>1</td>\n    </tr>\n    <tr>\n      <th>1</th>\n      <td>5008808</td>\n      <td>0</td>\n      <td>1</td>\n      <td>0</td>\n      <td>270000</td>\n      <td>1</td>\n      <td>0</td>\n      <td>1</td>\n      <td>1</td>\n      <td>1</td>\n      <td>53</td>\n      <td>9</td>\n      <td>0</td>\n      <td>5</td>\n      <td>1</td>\n    </tr>\n    <tr>\n      <th>2</th>\n      <td>5008809</td>\n      <td>0</td>\n      <td>1</td>\n      <td>0</td>\n      <td>270000</td>\n      <td>1</td>\n      <td>0</td>\n      <td>1</td>\n      <td>1</td>\n      <td>1</td>\n      <td>53</td>\n      <td>9</td>\n      <td>0</td>\n      <td>5</td>\n      <td>1</td>\n    </tr>\n    <tr>\n      <th>3</th>\n      <td>5008810</td>\n      <td>0</td>\n      <td>1</td>\n      <td>0</td>\n      <td>270000</td>\n      <td>1</td>\n      <td>0</td>\n      <td>1</td>\n      <td>1</td>\n      <td>1</td>\n      <td>53</td>\n      <td>9</td>\n      <td>0</td>\n      <td>27</td>\n      <td>1</td>\n    </tr>\n    <tr>\n      <th>4</th>\n      <td>5008811</td>\n      <td>0</td>\n      <td>1</td>\n      <td>0</td>\n      <td>270000</td>\n      <td>1</td>\n      <td>0</td>\n      <td>1</td>\n      <td>1</td>\n      <td>1</td>\n      <td>53</td>\n      <td>9</td>\n      <td>0</td>\n      <td>39</td>\n      <td>1</td>\n    </tr>\n    <tr>\n      <th>5</th>\n      <td>5008815</td>\n      <td>1</td>\n      <td>1</td>\n      <td>0</td>\n      <td>270000</td>\n      <td>1</td>\n      <td>1</td>\n      <td>1</td>\n      <td>1</td>\n      <td>2</td>\n      <td>47</td>\n      <td>3</td>\n      <td>0</td>\n      <td>6</td>\n      <td>1</td>\n    </tr>\n    <tr>\n      <th>6</th>\n      <td>5008819</td>\n      <td>1</td>\n      <td>1</td>\n      <td>0</td>\n      <td>135000</td>\n      <td>1</td>\n      <td>0</td>\n      <td>0</td>\n      <td>0</td>\n      <td>2</td>\n      <td>49</td>\n      <td>4</td>\n      <td>0</td>\n      <td>8</td>\n      <td>1</td>\n    </tr>\n    <tr>\n      <th>7</th>\n      <td>5008820</td>\n      <td>1</td>\n      <td>1</td>\n      <td>0</td>\n      <td>135000</td>\n      <td>1</td>\n      <td>0</td>\n      <td>0</td>\n      <td>0</td>\n      <td>2</td>\n      <td>49</td>\n      <td>4</td>\n      <td>0</td>\n      <td>9</td>\n      <td>1</td>\n    </tr>\n    <tr>\n      <th>8</th>\n      <td>5008821</td>\n      <td>1</td>\n      <td>1</td>\n      <td>0</td>\n      <td>135000</td>\n      <td>1</td>\n      <td>0</td>\n      <td>0</td>\n      <td>0</td>\n      <td>2</td>\n      <td>49</td>\n      <td>4</td>\n      <td>0</td>\n      <td>9</td>\n      <td>1</td>\n    </tr>\n    <tr>\n      <th>9</th>\n      <td>5008822</td>\n      <td>1</td>\n      <td>1</td>\n      <td>0</td>\n      <td>135000</td>\n      <td>1</td>\n      <td>0</td>\n      <td>0</td>\n      <td>0</td>\n      <td>2</td>\n      <td>49</td>\n      <td>4</td>\n      <td>0</td>\n      <td>9</td>\n      <td>1</td>\n    </tr>\n  </tbody>\n</table>\n</div>"
     },
     "execution_count": 29,
     "metadata": {},
     "output_type": "execute_result"
    }
   ],
   "source": [
    "numerics = [ 'int64', 'float64']\n",
    "number = dataset.select_dtypes(include=numerics).copy()\n",
    "number.head(10)"
   ],
   "metadata": {
    "collapsed": false
   }
  },
  {
   "cell_type": "code",
   "execution_count": 30,
   "outputs": [],
   "source": [
    "number.to_csv('Applicant_Angka.csv')"
   ],
   "metadata": {
    "collapsed": false
   }
  }
 ],
 "metadata": {
  "kernelspec": {
   "display_name": "Python 3",
   "language": "python",
   "name": "python3"
  },
  "language_info": {
   "codemirror_mode": {
    "name": "ipython",
    "version": 2
   },
   "file_extension": ".py",
   "mimetype": "text/x-python",
   "name": "python",
   "nbconvert_exporter": "python",
   "pygments_lexer": "ipython2",
   "version": "2.7.6"
  }
 },
 "nbformat": 4,
 "nbformat_minor": 0
}
