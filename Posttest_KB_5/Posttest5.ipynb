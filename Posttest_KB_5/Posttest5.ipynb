{
 "cells": [
  {
   "cell_type": "markdown",
   "source": [
    "# Posttest_5\n",
    "Nama  : Hendi\n",
    "NIM   : 2009106009\n",
    "Kelas : Praktikum Kecerdasn Buatan A1 2020"
   ],
   "metadata": {
    "collapsed": false
   }
  },
  {
   "cell_type": "markdown",
   "source": [
    "## Import Library"
   ],
   "metadata": {
    "collapsed": false
   }
  },
  {
   "cell_type": "code",
   "execution_count": 139,
   "outputs": [],
   "source": [
    "import pandas as pd\n",
    "import seaborn as sns\n",
    "import matplotlib.pyplot as plt\n",
    "import numpy as np\n",
    "from sklearn.metrics import accuracy_score, confusion_matrix\n",
    "from sklearn.model_selection import train_test_split\n",
    "from sklearn.preprocessing import StandardScaler\n",
    "from sklearn.naive_bayes import GaussianNB\n",
    "from sklearn.svm import SVC\n",
    "from sklearn.preprocessing import OneHotEncoder\n",
    "from sklearn.metrics import confusion_matrix, ConfusionMatrixDisplay"
   ],
   "metadata": {
    "collapsed": false
   }
  },
  {
   "cell_type": "markdown",
   "source": [
    "## Read Data"
   ],
   "metadata": {
    "collapsed": false
   }
  },
  {
   "cell_type": "code",
   "execution_count": 140,
   "outputs": [
    {
     "data": {
      "text/plain": "   Applicant_ID Applicant_Gender  Owned_Car  Owned_Realty  Total_Children  \\\n0       5008806          M                1             1               0   \n1       5008808          F                0             1               0   \n2       5008809          F                0             1               0   \n3       5008810          F                0             1               0   \n4       5008811          F                0             1               0   \n\n   Total_Income                                        Income_Type  \\\n0        112500  Working                                       ...   \n1        270000  Commercial associate                          ...   \n2        270000  Commercial associate                          ...   \n3        270000  Commercial associate                          ...   \n4        270000  Commercial associate                          ...   \n\n                                      Education_Type  \\\n0  Secondary / secondary special                 ...   \n1  Secondary / secondary special                 ...   \n2  Secondary / secondary special                 ...   \n3  Secondary / secondary special                 ...   \n4  Secondary / secondary special                 ...   \n\n                                       Family_Status  \\\n0  Married                                       ...   \n1  Single / not married                          ...   \n2  Single / not married                          ...   \n3  Single / not married                          ...   \n4  Single / not married                          ...   \n\n                                        Housing_Type  ...  Owned_Work_Phone  \\\n0  House / apartment                             ...  ...                 0   \n1  House / apartment                             ...  ...                 0   \n2  House / apartment                             ...  ...                 0   \n3  House / apartment                             ...  ...                 0   \n4  House / apartment                             ...  ...                 0   \n\n   Owned_Phone  Owned_Email  \\\n0            0            0   \n1            1            1   \n2            1            1   \n3            1            1   \n4            1            1   \n\n                                           Job_Title Total_Family_Members  \\\n0  Security staff                                ...                    2   \n1  Sales staff                                   ...                    1   \n2  Sales staff                                   ...                    1   \n3  Sales staff                                   ...                    1   \n4  Sales staff                                   ...                    1   \n\n   Applicant_Age  Years_of_Working  Total_Bad_Debt  Total_Good_Debt  Status  \n0             59                 4               0               30       1  \n1             53                 9               0                5       1  \n2             53                 9               0                5       1  \n3             53                 9               0               27       1  \n4             53                 9               0               39       1  \n\n[5 rows x 21 columns]",
      "text/html": "<div>\n<style scoped>\n    .dataframe tbody tr th:only-of-type {\n        vertical-align: middle;\n    }\n\n    .dataframe tbody tr th {\n        vertical-align: top;\n    }\n\n    .dataframe thead th {\n        text-align: right;\n    }\n</style>\n<table border=\"1\" class=\"dataframe\">\n  <thead>\n    <tr style=\"text-align: right;\">\n      <th></th>\n      <th>Applicant_ID</th>\n      <th>Applicant_Gender</th>\n      <th>Owned_Car</th>\n      <th>Owned_Realty</th>\n      <th>Total_Children</th>\n      <th>Total_Income</th>\n      <th>Income_Type</th>\n      <th>Education_Type</th>\n      <th>Family_Status</th>\n      <th>Housing_Type</th>\n      <th>...</th>\n      <th>Owned_Work_Phone</th>\n      <th>Owned_Phone</th>\n      <th>Owned_Email</th>\n      <th>Job_Title</th>\n      <th>Total_Family_Members</th>\n      <th>Applicant_Age</th>\n      <th>Years_of_Working</th>\n      <th>Total_Bad_Debt</th>\n      <th>Total_Good_Debt</th>\n      <th>Status</th>\n    </tr>\n  </thead>\n  <tbody>\n    <tr>\n      <th>0</th>\n      <td>5008806</td>\n      <td>M</td>\n      <td>1</td>\n      <td>1</td>\n      <td>0</td>\n      <td>112500</td>\n      <td>Working                                       ...</td>\n      <td>Secondary / secondary special                 ...</td>\n      <td>Married                                       ...</td>\n      <td>House / apartment                             ...</td>\n      <td>...</td>\n      <td>0</td>\n      <td>0</td>\n      <td>0</td>\n      <td>Security staff                                ...</td>\n      <td>2</td>\n      <td>59</td>\n      <td>4</td>\n      <td>0</td>\n      <td>30</td>\n      <td>1</td>\n    </tr>\n    <tr>\n      <th>1</th>\n      <td>5008808</td>\n      <td>F</td>\n      <td>0</td>\n      <td>1</td>\n      <td>0</td>\n      <td>270000</td>\n      <td>Commercial associate                          ...</td>\n      <td>Secondary / secondary special                 ...</td>\n      <td>Single / not married                          ...</td>\n      <td>House / apartment                             ...</td>\n      <td>...</td>\n      <td>0</td>\n      <td>1</td>\n      <td>1</td>\n      <td>Sales staff                                   ...</td>\n      <td>1</td>\n      <td>53</td>\n      <td>9</td>\n      <td>0</td>\n      <td>5</td>\n      <td>1</td>\n    </tr>\n    <tr>\n      <th>2</th>\n      <td>5008809</td>\n      <td>F</td>\n      <td>0</td>\n      <td>1</td>\n      <td>0</td>\n      <td>270000</td>\n      <td>Commercial associate                          ...</td>\n      <td>Secondary / secondary special                 ...</td>\n      <td>Single / not married                          ...</td>\n      <td>House / apartment                             ...</td>\n      <td>...</td>\n      <td>0</td>\n      <td>1</td>\n      <td>1</td>\n      <td>Sales staff                                   ...</td>\n      <td>1</td>\n      <td>53</td>\n      <td>9</td>\n      <td>0</td>\n      <td>5</td>\n      <td>1</td>\n    </tr>\n    <tr>\n      <th>3</th>\n      <td>5008810</td>\n      <td>F</td>\n      <td>0</td>\n      <td>1</td>\n      <td>0</td>\n      <td>270000</td>\n      <td>Commercial associate                          ...</td>\n      <td>Secondary / secondary special                 ...</td>\n      <td>Single / not married                          ...</td>\n      <td>House / apartment                             ...</td>\n      <td>...</td>\n      <td>0</td>\n      <td>1</td>\n      <td>1</td>\n      <td>Sales staff                                   ...</td>\n      <td>1</td>\n      <td>53</td>\n      <td>9</td>\n      <td>0</td>\n      <td>27</td>\n      <td>1</td>\n    </tr>\n    <tr>\n      <th>4</th>\n      <td>5008811</td>\n      <td>F</td>\n      <td>0</td>\n      <td>1</td>\n      <td>0</td>\n      <td>270000</td>\n      <td>Commercial associate                          ...</td>\n      <td>Secondary / secondary special                 ...</td>\n      <td>Single / not married                          ...</td>\n      <td>House / apartment                             ...</td>\n      <td>...</td>\n      <td>0</td>\n      <td>1</td>\n      <td>1</td>\n      <td>Sales staff                                   ...</td>\n      <td>1</td>\n      <td>53</td>\n      <td>9</td>\n      <td>0</td>\n      <td>39</td>\n      <td>1</td>\n    </tr>\n  </tbody>\n</table>\n<p>5 rows × 21 columns</p>\n</div>"
     },
     "execution_count": 140,
     "metadata": {},
     "output_type": "execute_result"
    }
   ],
   "source": [
    "df = pd.read_csv(\"Application_Dataset.csv\")\n",
    "df.head()"
   ],
   "metadata": {
    "collapsed": false
   }
  },
  {
   "cell_type": "code",
   "execution_count": 141,
   "outputs": [
    {
     "name": "stdout",
     "output_type": "stream",
     "text": [
      "F          15627\n",
      "M           9501\n",
      "Name: Applicant_Gender, dtype: int64\n",
      "\n",
      "\n",
      "Working                                               15616\n",
      "Commercial associate                                   7052\n",
      "State servant                                          2437\n",
      "Pensioner                                                13\n",
      "Student                                                  10\n",
      "Name: Income_Type, dtype: int64\n",
      "\n",
      "\n",
      "Secondary / secondary special                         16802\n",
      "Higher education                                       7132\n",
      "Incomplete higher                                       993\n",
      "Lower secondary                                         187\n",
      "Academic degree                                          14\n",
      "Name: Education_Type, dtype: int64\n",
      "\n",
      "\n",
      "Married                                               17507\n",
      "Single / not married                                   3444\n",
      "Civil marriage                                         2133\n",
      "Separated                                              1464\n",
      "Widow                                                   580\n",
      "Name: Family_Status, dtype: int64\n",
      "\n",
      "\n",
      "House / apartment                                     22096\n",
      "With parents                                           1430\n",
      "Municipal apartment                                     812\n",
      "Rented apartment                                        439\n",
      "Office apartment                                        199\n",
      "Co-op apartment                                         152\n",
      "Name: Housing_Type, dtype: int64\n",
      "\n",
      "\n",
      "Laborers                                              6211\n",
      "Core staff                                            3591\n",
      "Sales staff                                           3485\n",
      "Managers                                              3012\n",
      "Drivers                                               2135\n",
      "High skill tech staff                                 1383\n",
      "Accountants                                           1241\n",
      "Medicine staff                                        1207\n",
      "Cooking staff                                          655\n",
      "Security staff                                         592\n",
      "Cleaning staff                                         549\n",
      "Private service staff                                  344\n",
      "Low-skill Laborers                                     175\n",
      "Waiters/barmen staff                                   173\n",
      "Secretaries                                            151\n",
      "HR staff                                                85\n",
      "Realty agents                                           79\n",
      "IT staff                                                60\n",
      "Name: Job_Title, dtype: int64\n",
      "\n",
      "\n"
     ]
    }
   ],
   "source": [
    "dfCat = df.select_dtypes(include=['object'])\n",
    "\n",
    "for i in dfCat.columns:\n",
    "    print(dfCat[i].value_counts())\n",
    "    print(\"\\n\")"
   ],
   "metadata": {
    "collapsed": false
   }
  },
  {
   "cell_type": "markdown",
   "source": [
    "## One-Hot Encoding"
   ],
   "metadata": {
    "collapsed": false
   }
  },
  {
   "cell_type": "code",
   "execution_count": 142,
   "outputs": [
    {
     "data": {
      "text/plain": "   Applicant_ID Applicant_Gender  Owned_Car  Owned_Realty  Total_Children  \\\n0       5008806          M                1             1               0   \n1       5008808          F                0             1               0   \n2       5008809          F                0             1               0   \n3       5008810          F                0             1               0   \n4       5008811          F                0             1               0   \n\n   Total_Income                                        Income_Type  \\\n0        112500  Working                                       ...   \n1        270000  Commercial associate                          ...   \n2        270000  Commercial associate                          ...   \n3        270000  Commercial associate                          ...   \n4        270000  Commercial associate                          ...   \n\n                                      Education_Type  \\\n0  Secondary / secondary special                 ...   \n1  Secondary / secondary special                 ...   \n2  Secondary / secondary special                 ...   \n3  Secondary / secondary special                 ...   \n4  Secondary / secondary special                 ...   \n\n                                       Family_Status  \\\n0  Married                                       ...   \n1  Single / not married                          ...   \n2  Single / not married                          ...   \n3  Single / not married                          ...   \n4  Single / not married                          ...   \n\n                                        Housing_Type  ...  Owned_Email  \\\n0  House / apartment                             ...  ...            0   \n1  House / apartment                             ...  ...            1   \n2  House / apartment                             ...  ...            1   \n3  House / apartment                             ...  ...            1   \n4  House / apartment                             ...  ...            1   \n\n                                           Job_Title  Total_Family_Members  \\\n0  Security staff                                ...                     2   \n1  Sales staff                                   ...                     1   \n2  Sales staff                                   ...                     1   \n3  Sales staff                                   ...                     1   \n4  Sales staff                                   ...                     1   \n\n   Applicant_Age Years_of_Working  Total_Bad_Debt  Total_Good_Debt  Status  \\\n0             59                4               0               30       1   \n1             53                9               0                5       1   \n2             53                9               0                5       1   \n3             53                9               0               27       1   \n4             53                9               0               39       1   \n\n     F    M  \n0  0.0  1.0  \n1  1.0  0.0  \n2  1.0  0.0  \n3  1.0  0.0  \n4  1.0  0.0  \n\n[5 rows x 23 columns]",
      "text/html": "<div>\n<style scoped>\n    .dataframe tbody tr th:only-of-type {\n        vertical-align: middle;\n    }\n\n    .dataframe tbody tr th {\n        vertical-align: top;\n    }\n\n    .dataframe thead th {\n        text-align: right;\n    }\n</style>\n<table border=\"1\" class=\"dataframe\">\n  <thead>\n    <tr style=\"text-align: right;\">\n      <th></th>\n      <th>Applicant_ID</th>\n      <th>Applicant_Gender</th>\n      <th>Owned_Car</th>\n      <th>Owned_Realty</th>\n      <th>Total_Children</th>\n      <th>Total_Income</th>\n      <th>Income_Type</th>\n      <th>Education_Type</th>\n      <th>Family_Status</th>\n      <th>Housing_Type</th>\n      <th>...</th>\n      <th>Owned_Email</th>\n      <th>Job_Title</th>\n      <th>Total_Family_Members</th>\n      <th>Applicant_Age</th>\n      <th>Years_of_Working</th>\n      <th>Total_Bad_Debt</th>\n      <th>Total_Good_Debt</th>\n      <th>Status</th>\n      <th>F</th>\n      <th>M</th>\n    </tr>\n  </thead>\n  <tbody>\n    <tr>\n      <th>0</th>\n      <td>5008806</td>\n      <td>M</td>\n      <td>1</td>\n      <td>1</td>\n      <td>0</td>\n      <td>112500</td>\n      <td>Working                                       ...</td>\n      <td>Secondary / secondary special                 ...</td>\n      <td>Married                                       ...</td>\n      <td>House / apartment                             ...</td>\n      <td>...</td>\n      <td>0</td>\n      <td>Security staff                                ...</td>\n      <td>2</td>\n      <td>59</td>\n      <td>4</td>\n      <td>0</td>\n      <td>30</td>\n      <td>1</td>\n      <td>0.0</td>\n      <td>1.0</td>\n    </tr>\n    <tr>\n      <th>1</th>\n      <td>5008808</td>\n      <td>F</td>\n      <td>0</td>\n      <td>1</td>\n      <td>0</td>\n      <td>270000</td>\n      <td>Commercial associate                          ...</td>\n      <td>Secondary / secondary special                 ...</td>\n      <td>Single / not married                          ...</td>\n      <td>House / apartment                             ...</td>\n      <td>...</td>\n      <td>1</td>\n      <td>Sales staff                                   ...</td>\n      <td>1</td>\n      <td>53</td>\n      <td>9</td>\n      <td>0</td>\n      <td>5</td>\n      <td>1</td>\n      <td>1.0</td>\n      <td>0.0</td>\n    </tr>\n    <tr>\n      <th>2</th>\n      <td>5008809</td>\n      <td>F</td>\n      <td>0</td>\n      <td>1</td>\n      <td>0</td>\n      <td>270000</td>\n      <td>Commercial associate                          ...</td>\n      <td>Secondary / secondary special                 ...</td>\n      <td>Single / not married                          ...</td>\n      <td>House / apartment                             ...</td>\n      <td>...</td>\n      <td>1</td>\n      <td>Sales staff                                   ...</td>\n      <td>1</td>\n      <td>53</td>\n      <td>9</td>\n      <td>0</td>\n      <td>5</td>\n      <td>1</td>\n      <td>1.0</td>\n      <td>0.0</td>\n    </tr>\n    <tr>\n      <th>3</th>\n      <td>5008810</td>\n      <td>F</td>\n      <td>0</td>\n      <td>1</td>\n      <td>0</td>\n      <td>270000</td>\n      <td>Commercial associate                          ...</td>\n      <td>Secondary / secondary special                 ...</td>\n      <td>Single / not married                          ...</td>\n      <td>House / apartment                             ...</td>\n      <td>...</td>\n      <td>1</td>\n      <td>Sales staff                                   ...</td>\n      <td>1</td>\n      <td>53</td>\n      <td>9</td>\n      <td>0</td>\n      <td>27</td>\n      <td>1</td>\n      <td>1.0</td>\n      <td>0.0</td>\n    </tr>\n    <tr>\n      <th>4</th>\n      <td>5008811</td>\n      <td>F</td>\n      <td>0</td>\n      <td>1</td>\n      <td>0</td>\n      <td>270000</td>\n      <td>Commercial associate                          ...</td>\n      <td>Secondary / secondary special                 ...</td>\n      <td>Single / not married                          ...</td>\n      <td>House / apartment                             ...</td>\n      <td>...</td>\n      <td>1</td>\n      <td>Sales staff                                   ...</td>\n      <td>1</td>\n      <td>53</td>\n      <td>9</td>\n      <td>0</td>\n      <td>39</td>\n      <td>1</td>\n      <td>1.0</td>\n      <td>0.0</td>\n    </tr>\n  </tbody>\n</table>\n<p>5 rows × 23 columns</p>\n</div>"
     },
     "execution_count": 142,
     "metadata": {},
     "output_type": "execute_result"
    }
   ],
   "source": [
    "encoder = OneHotEncoder(sparse=False)\n",
    "Gender = encoder.fit_transform(df[['Applicant_Gender']])\n",
    "\n",
    "Genders = pd.DataFrame(Gender)\n",
    "df= df.join(Genders)\n",
    "\n",
    "df = df.rename(columns={\n",
    "    0 : 'F',\n",
    "    1 : 'M',\n",
    "})\n",
    "\n",
    "df.head()"
   ],
   "metadata": {
    "collapsed": false
   }
  },
  {
   "cell_type": "markdown",
   "source": [
    "## Split Data"
   ],
   "metadata": {
    "collapsed": false
   }
  },
  {
   "cell_type": "code",
   "execution_count": 143,
   "outputs": [],
   "source": [
    "X = df[['Total_Income','Applicant_Age','F','M','Total_Bad_Debt','Total_Good_Debt']]\n",
    "y = df[['Status']]"
   ],
   "metadata": {
    "collapsed": false
   }
  },
  {
   "cell_type": "code",
   "execution_count": 144,
   "outputs": [],
   "source": [
    "X_train, X_test, y_train, y_test = train_test_split(X,y,test_size=0.3)"
   ],
   "metadata": {
    "collapsed": false
   }
  },
  {
   "cell_type": "markdown",
   "source": [
    "## Normalisasi Data"
   ],
   "metadata": {
    "collapsed": false
   }
  },
  {
   "cell_type": "code",
   "execution_count": 145,
   "outputs": [],
   "source": [
    "ss = StandardScaler()\n",
    "X_train_std = ss.fit_transform(X_train)\n",
    "X_test_std = ss.transform(X_test)"
   ],
   "metadata": {
    "collapsed": false
   }
  },
  {
   "cell_type": "markdown",
   "source": [
    "## Naive Bayes"
   ],
   "metadata": {
    "collapsed": false
   }
  },
  {
   "cell_type": "code",
   "execution_count": 146,
   "outputs": [
    {
     "name": "stdout",
     "output_type": "stream",
     "text": [
      "Akurasi algoritma Naive Bayes : 0.98\n"
     ]
    }
   ],
   "source": [
    "nb  = GaussianNB()\n",
    "nb.fit(X_train_std,y_train)\n",
    "\n",
    "nb_pred = gaussnb.predict(X_test_std)\n",
    "akurasi_nb = accuracy_score(y_test, gaussnb_pred)\n",
    "print(\"Akurasi algoritma Naive Bayes :\", round(akurasi_nb,2))"
   ],
   "metadata": {
    "collapsed": false
   }
  },
  {
   "cell_type": "markdown",
   "source": [
    "## SVM"
   ],
   "metadata": {
    "collapsed": false
   }
  },
  {
   "cell_type": "code",
   "execution_count": 147,
   "outputs": [
    {
     "name": "stdout",
     "output_type": "stream",
     "text": [
      "Akurasi algoritma SVC : 1.0\n"
     ]
    }
   ],
   "source": [
    "svm = SVC()\n",
    "svm.fit(X_train_std,y_train)\n",
    "\n",
    "svm_pred = svm.predict(X_test_std)\n",
    "akurasi_svm = accuracy_score(y_test, svm_pred)\n",
    "print(\"Akurasi algoritma SVC :\", round(akurasi_svm,2))"
   ],
   "metadata": {
    "collapsed": false
   }
  },
  {
   "cell_type": "markdown",
   "source": [
    "## Perbandingan"
   ],
   "metadata": {
    "collapsed": false
   }
  },
  {
   "cell_type": "code",
   "execution_count": 148,
   "outputs": [
    {
     "data": {
      "text/plain": "<Figure size 1000x1000 with 1 Axes>",
      "image/png": "[encoded data removed]"
     },
     "metadata": {},
     "output_type": "display_data"
    }
   ],
   "source": [
    "algoritma = [\"NaiveBayes\",\"SVM\"]\n",
    "akurasi = [akurasi_nb,akurasi_svm]\n",
    "\n",
    "plt.figure(figsize=(10,10))\n",
    "\n",
    "sns.barplot(x= algoritma,y = akurasi,palette='Paired')\n",
    "\n",
    "plt.title(\"Perbandingan Akurasi Algoritma\")\n",
    "plt.ylabel(\"Akurasi (%)\")\n",
    "plt.xlabel(\"Algoritma\")\n",
    "plt.show()"
   ],
   "metadata": {
    "collapsed": false
   }
  },
  {
   "cell_type": "markdown",
   "source": [
    "## Confusion Matrix"
   ],
   "metadata": {
    "collapsed": false
   }
  },
  {
   "cell_type": "code",
   "execution_count": 151,
   "outputs": [
    {
     "name": "stdout",
     "output_type": "stream",
     "text": [
      "Confusion matrix : \n",
      "\n",
      " [[  35    0]\n",
      " [7504    0]]\n"
     ]
    },
    {
     "data": {
      "text/plain": "<Figure size 640x480 with 2 Axes>",
      "image/png": "[encoded data removed]"
     },
     "metadata": {},
     "output_type": "display_data"
    }
   ],
   "source": [
    "nb = GaussianNB()\n",
    "nb.fit(X_train,y_train)\n",
    "\n",
    "nb_pred = gaussnb.predict(X_test)\n",
    "\n",
    "cm = confusion_matrix(y_test, nb_pred)\n",
    "print('Confusion matrix : \\n\\n', cm)\n",
    "\n",
    "displays = ConfusionMatrixDisplay(confusion_matrix=cm,display_labels=nb.classes_)\n",
    "displays.plot()\n",
    "\n",
    "plt.title(\"Confusion Matrix NaiveBayes\")\n",
    "plt.grid(False)"
   ],
   "metadata": {
    "collapsed": false
   }
  },
  {
   "cell_type": "code",
   "execution_count": null,
   "outputs": [],
   "source": [],
   "metadata": {
    "collapsed": false
   }
  }
 ],
 "metadata": {
  "kernelspec": {
   "display_name": "Python 3",
   "language": "python",
   "name": "python3"
  },
  "language_info": {
   "codemirror_mode": {
    "name": "ipython",
    "version": 2
   },
   "file_extension": ".py",
   "mimetype": "text/x-python",
   "name": "python",
   "nbconvert_exporter": "python",
   "pygments_lexer": "ipython2",
   "version": "2.7.6"
  }
 },
 "nbformat": 4,
 "nbformat_minor": 0
}
