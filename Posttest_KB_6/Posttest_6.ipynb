{
 "cells": [
  {
   "cell_type": "markdown",
   "source": [
    "# Posttest_6\n",
    "Nama  : Hendi\n",
    "NIM   : 2009106009\n",
    "Kelas : Praktikum Kecerdasn Buatan A1 2020"
   ],
   "metadata": {
    "collapsed": false
   }
  },
  {
   "cell_type": "markdown",
   "source": [
    "## Import Library"
   ],
   "metadata": {
    "collapsed": false
   }
  },
  {
   "cell_type": "code",
   "execution_count": 1,
   "outputs": [],
   "source": [
    "import pandas as pd\n",
    "import numpy as np\n",
    "import seaborn as sns\n",
    "import matplotlib.pyplot as plt\n",
    "import sklearn.datasets as dts\n",
    "from sklearn.cluster import KMeans"
   ],
   "metadata": {
    "collapsed": false
   }
  },
  {
   "cell_type": "code",
   "execution_count": 4,
   "outputs": [
    {
     "data": {
      "text/plain": "   Unnamed: 0  Applicant_ID  Owned_Car  Owned_Realty  Total_Children  \\\n0           0       5008806          1             1               0   \n1           1       5008808          0             1               0   \n2           2       5008809          0             1               0   \n3           3       5008810          0             1               0   \n4           4       5008811          0             1               0   \n\n   Total_Income  Owned_Mobile_Phone  Owned_Work_Phone  Owned_Phone  \\\n0        112500                   1                 0            0   \n1        270000                   1                 0            1   \n2        270000                   1                 0            1   \n3        270000                   1                 0            1   \n4        270000                   1                 0            1   \n\n   Owned_Email  Total_Family_Members  Applicant_Age  Years_of_Working  \\\n0            0                     2             59                 4   \n1            1                     1             53                 9   \n2            1                     1             53                 9   \n3            1                     1             53                 9   \n4            1                     1             53                 9   \n\n   Total_Bad_Debt  Total_Good_Debt  Status  \n0               0               30       1  \n1               0                5       1  \n2               0                5       1  \n3               0               27       1  \n4               0               39       1  ",
      "text/html": "<div>\n<style scoped>\n    .dataframe tbody tr th:only-of-type {\n        vertical-align: middle;\n    }\n\n    .dataframe tbody tr th {\n        vertical-align: top;\n    }\n\n    .dataframe thead th {\n        text-align: right;\n    }\n</style>\n<table border=\"1\" class=\"dataframe\">\n  <thead>\n    <tr style=\"text-align: right;\">\n      <th></th>\n      <th>Unnamed: 0</th>\n      <th>Applicant_ID</th>\n      <th>Owned_Car</th>\n      <th>Owned_Realty</th>\n      <th>Total_Children</th>\n      <th>Total_Income</th>\n      <th>Owned_Mobile_Phone</th>\n      <th>Owned_Work_Phone</th>\n      <th>Owned_Phone</th>\n      <th>Owned_Email</th>\n      <th>Total_Family_Members</th>\n      <th>Applicant_Age</th>\n      <th>Years_of_Working</th>\n      <th>Total_Bad_Debt</th>\n      <th>Total_Good_Debt</th>\n      <th>Status</th>\n    </tr>\n  </thead>\n  <tbody>\n    <tr>\n      <th>0</th>\n      <td>0</td>\n      <td>5008806</td>\n      <td>1</td>\n      <td>1</td>\n      <td>0</td>\n      <td>112500</td>\n      <td>1</td>\n      <td>0</td>\n      <td>0</td>\n      <td>0</td>\n      <td>2</td>\n      <td>59</td>\n      <td>4</td>\n      <td>0</td>\n      <td>30</td>\n      <td>1</td>\n    </tr>\n    <tr>\n      <th>1</th>\n      <td>1</td>\n      <td>5008808</td>\n      <td>0</td>\n      <td>1</td>\n      <td>0</td>\n      <td>270000</td>\n      <td>1</td>\n      <td>0</td>\n      <td>1</td>\n      <td>1</td>\n      <td>1</td>\n      <td>53</td>\n      <td>9</td>\n      <td>0</td>\n      <td>5</td>\n      <td>1</td>\n    </tr>\n    <tr>\n      <th>2</th>\n      <td>2</td>\n      <td>5008809</td>\n      <td>0</td>\n      <td>1</td>\n      <td>0</td>\n      <td>270000</td>\n      <td>1</td>\n      <td>0</td>\n      <td>1</td>\n      <td>1</td>\n      <td>1</td>\n      <td>53</td>\n      <td>9</td>\n      <td>0</td>\n      <td>5</td>\n      <td>1</td>\n    </tr>\n    <tr>\n      <th>3</th>\n      <td>3</td>\n      <td>5008810</td>\n      <td>0</td>\n      <td>1</td>\n      <td>0</td>\n      <td>270000</td>\n      <td>1</td>\n      <td>0</td>\n      <td>1</td>\n      <td>1</td>\n      <td>1</td>\n      <td>53</td>\n      <td>9</td>\n      <td>0</td>\n      <td>27</td>\n      <td>1</td>\n    </tr>\n    <tr>\n      <th>4</th>\n      <td>4</td>\n      <td>5008811</td>\n      <td>0</td>\n      <td>1</td>\n      <td>0</td>\n      <td>270000</td>\n      <td>1</td>\n      <td>0</td>\n      <td>1</td>\n      <td>1</td>\n      <td>1</td>\n      <td>53</td>\n      <td>9</td>\n      <td>0</td>\n      <td>39</td>\n      <td>1</td>\n    </tr>\n  </tbody>\n</table>\n</div>"
     },
     "execution_count": 4,
     "metadata": {},
     "output_type": "execute_result"
    }
   ],
   "source": [
    "data = pd.read_csv(\"Applicant_Angka.csv\")\n",
    "data.head()"
   ],
   "metadata": {
    "collapsed": false
   }
  },
  {
   "cell_type": "code",
   "execution_count": 5,
   "outputs": [
    {
     "data": {
      "text/plain": "                        count          mean            std        min  \\\nUnnamed: 0            25128.0  1.256350e+04    7253.973118        0.0   \nApplicant_ID          25128.0  5.078835e+06   41943.777736  5008806.0   \nOwned_Car             25128.0  4.183779e-01       0.493303        0.0   \nOwned_Realty          25128.0  6.549268e-01       0.475402        0.0   \nTotal_Children        25128.0  5.094715e-01       0.762937        0.0   \nTotal_Income          25128.0  1.948365e+05  104521.123300    27000.0   \nOwned_Mobile_Phone    25128.0  1.000000e+00       0.000000        1.0   \nOwned_Work_Phone      25128.0  2.737584e-01       0.445895        0.0   \nOwned_Phone           25128.0  2.927412e-01       0.455030        0.0   \nOwned_Email           25128.0  1.006845e-01       0.300916        0.0   \nTotal_Family_Members  25128.0  2.291309e+00       0.928871        1.0   \nApplicant_Age         25128.0  4.099550e+01       9.552832       21.0   \nYears_of_Working      25128.0  7.690903e+00       6.415007        1.0   \nTotal_Bad_Debt        25128.0  3.330946e-01       1.569448        0.0   \nTotal_Good_Debt       25128.0  2.105755e+01      14.735347        1.0   \nStatus                25128.0  9.951847e-01       0.069227        0.0   \n\n                             25%        50%         75%        max  \nUnnamed: 0               6281.75    12563.5    18845.25    25127.0  \nApplicant_ID          5042225.75  5079004.0  5115603.25  5150487.0  \nOwned_Car                   0.00        0.0        1.00        1.0  \nOwned_Realty                0.00        1.0        1.00        1.0  \nTotal_Children              0.00        0.0        1.00        5.0  \nTotal_Income           135000.00   180000.0   225000.00  1575000.0  \nOwned_Mobile_Phone          1.00        1.0        1.00        1.0  \nOwned_Work_Phone            0.00        0.0        1.00        1.0  \nOwned_Phone                 0.00        0.0        1.00        1.0  \nOwned_Email                 0.00        0.0        0.00        1.0  \nTotal_Family_Members        2.00        2.0        3.00        7.0  \nApplicant_Age              33.00       40.0       48.00       68.0  \nYears_of_Working            3.00        6.0       10.00       44.0  \nTotal_Bad_Debt              0.00        0.0        0.00       49.0  \nTotal_Good_Debt             9.00       18.0       31.00       61.0  \nStatus                      1.00        1.0        1.00        1.0  ",
      "text/html": "<div>\n<style scoped>\n    .dataframe tbody tr th:only-of-type {\n        vertical-align: middle;\n    }\n\n    .dataframe tbody tr th {\n        vertical-align: top;\n    }\n\n    .dataframe thead th {\n        text-align: right;\n    }\n</style>\n<table border=\"1\" class=\"dataframe\">\n  <thead>\n    <tr style=\"text-align: right;\">\n      <th></th>\n      <th>count</th>\n      <th>mean</th>\n      <th>std</th>\n      <th>min</th>\n      <th>25%</th>\n      <th>50%</th>\n      <th>75%</th>\n      <th>max</th>\n    </tr>\n  </thead>\n  <tbody>\n    <tr>\n      <th>Unnamed: 0</th>\n      <td>25128.0</td>\n      <td>1.256350e+04</td>\n      <td>7253.973118</td>\n      <td>0.0</td>\n      <td>6281.75</td>\n      <td>12563.5</td>\n      <td>18845.25</td>\n      <td>25127.0</td>\n    </tr>\n    <tr>\n      <th>Applicant_ID</th>\n      <td>25128.0</td>\n      <td>5.078835e+06</td>\n      <td>41943.777736</td>\n      <td>5008806.0</td>\n      <td>5042225.75</td>\n      <td>5079004.0</td>\n      <td>5115603.25</td>\n      <td>5150487.0</td>\n    </tr>\n    <tr>\n      <th>Owned_Car</th>\n      <td>25128.0</td>\n      <td>4.183779e-01</td>\n      <td>0.493303</td>\n      <td>0.0</td>\n      <td>0.00</td>\n      <td>0.0</td>\n      <td>1.00</td>\n      <td>1.0</td>\n    </tr>\n    <tr>\n      <th>Owned_Realty</th>\n      <td>25128.0</td>\n      <td>6.549268e-01</td>\n      <td>0.475402</td>\n      <td>0.0</td>\n      <td>0.00</td>\n      <td>1.0</td>\n      <td>1.00</td>\n      <td>1.0</td>\n    </tr>\n    <tr>\n      <th>Total_Children</th>\n      <td>25128.0</td>\n      <td>5.094715e-01</td>\n      <td>0.762937</td>\n      <td>0.0</td>\n      <td>0.00</td>\n      <td>0.0</td>\n      <td>1.00</td>\n      <td>5.0</td>\n    </tr>\n    <tr>\n      <th>Total_Income</th>\n      <td>25128.0</td>\n      <td>1.948365e+05</td>\n      <td>104521.123300</td>\n      <td>27000.0</td>\n      <td>135000.00</td>\n      <td>180000.0</td>\n      <td>225000.00</td>\n      <td>1575000.0</td>\n    </tr>\n    <tr>\n      <th>Owned_Mobile_Phone</th>\n      <td>25128.0</td>\n      <td>1.000000e+00</td>\n      <td>0.000000</td>\n      <td>1.0</td>\n      <td>1.00</td>\n      <td>1.0</td>\n      <td>1.00</td>\n      <td>1.0</td>\n    </tr>\n    <tr>\n      <th>Owned_Work_Phone</th>\n      <td>25128.0</td>\n      <td>2.737584e-01</td>\n      <td>0.445895</td>\n      <td>0.0</td>\n      <td>0.00</td>\n      <td>0.0</td>\n      <td>1.00</td>\n      <td>1.0</td>\n    </tr>\n    <tr>\n      <th>Owned_Phone</th>\n      <td>25128.0</td>\n      <td>2.927412e-01</td>\n      <td>0.455030</td>\n      <td>0.0</td>\n      <td>0.00</td>\n      <td>0.0</td>\n      <td>1.00</td>\n      <td>1.0</td>\n    </tr>\n    <tr>\n      <th>Owned_Email</th>\n      <td>25128.0</td>\n      <td>1.006845e-01</td>\n      <td>0.300916</td>\n      <td>0.0</td>\n      <td>0.00</td>\n      <td>0.0</td>\n      <td>0.00</td>\n      <td>1.0</td>\n    </tr>\n    <tr>\n      <th>Total_Family_Members</th>\n      <td>25128.0</td>\n      <td>2.291309e+00</td>\n      <td>0.928871</td>\n      <td>1.0</td>\n      <td>2.00</td>\n      <td>2.0</td>\n      <td>3.00</td>\n      <td>7.0</td>\n    </tr>\n    <tr>\n      <th>Applicant_Age</th>\n      <td>25128.0</td>\n      <td>4.099550e+01</td>\n      <td>9.552832</td>\n      <td>21.0</td>\n      <td>33.00</td>\n      <td>40.0</td>\n      <td>48.00</td>\n      <td>68.0</td>\n    </tr>\n    <tr>\n      <th>Years_of_Working</th>\n      <td>25128.0</td>\n      <td>7.690903e+00</td>\n      <td>6.415007</td>\n      <td>1.0</td>\n      <td>3.00</td>\n      <td>6.0</td>\n      <td>10.00</td>\n      <td>44.0</td>\n    </tr>\n    <tr>\n      <th>Total_Bad_Debt</th>\n      <td>25128.0</td>\n      <td>3.330946e-01</td>\n      <td>1.569448</td>\n      <td>0.0</td>\n      <td>0.00</td>\n      <td>0.0</td>\n      <td>0.00</td>\n      <td>49.0</td>\n    </tr>\n    <tr>\n      <th>Total_Good_Debt</th>\n      <td>25128.0</td>\n      <td>2.105755e+01</td>\n      <td>14.735347</td>\n      <td>1.0</td>\n      <td>9.00</td>\n      <td>18.0</td>\n      <td>31.00</td>\n      <td>61.0</td>\n    </tr>\n    <tr>\n      <th>Status</th>\n      <td>25128.0</td>\n      <td>9.951847e-01</td>\n      <td>0.069227</td>\n      <td>0.0</td>\n      <td>1.00</td>\n      <td>1.0</td>\n      <td>1.00</td>\n      <td>1.0</td>\n    </tr>\n  </tbody>\n</table>\n</div>"
     },
     "execution_count": 5,
     "metadata": {},
     "output_type": "execute_result"
    }
   ],
   "source": [
    "data.describe().T"
   ],
   "metadata": {
    "collapsed": false
   }
  },
  {
   "cell_type": "code",
   "execution_count": 6,
   "outputs": [],
   "source": [
    "x=data.drop(['Applicant_ID'],axis=1).values"
   ],
   "metadata": {
    "collapsed": false
   }
  },
  {
   "cell_type": "markdown",
   "source": [
    "## K-Means Clustering"
   ],
   "metadata": {
    "collapsed": false
   }
  },
  {
   "cell_type": "code",
   "execution_count": 7,
   "outputs": [],
   "source": [
    "model = KMeans(n_clusters=3)"
   ],
   "metadata": {
    "collapsed": false
   }
  },
  {
   "cell_type": "code",
   "execution_count": 8,
   "outputs": [],
   "source": [
    "points = data[['Total_Income', 'Total_Family_Members', 'Applicant_Age', 'Years_of_Working', 'Owned_Car','Owned_Realty','Total_Bad_Debt','Total_Bad_Debt','Status']]"
   ],
   "metadata": {
    "collapsed": false
   }
  },
  {
   "cell_type": "code",
   "execution_count": 9,
   "outputs": [
    {
     "data": {
      "text/plain": "KMeans(n_clusters=3)",
      "text/html": "<style>#sk-container-id-1 {color: black;background-color: white;}#sk-container-id-1 pre{padding: 0;}#sk-container-id-1 div.sk-toggleable {background-color: white;}#sk-container-id-1 label.sk-toggleable__label {cursor: pointer;display: block;width: 100%;margin-bottom: 0;padding: 0.3em;box-sizing: border-box;text-align: center;}#sk-container-id-1 label.sk-toggleable__label-arrow:before {content: \"▸\";float: left;margin-right: 0.25em;color: #696969;}#sk-container-id-1 label.sk-toggleable__label-arrow:hover:before {color: black;}#sk-container-id-1 div.sk-estimator:hover label.sk-toggleable__label-arrow:before {color: black;}#sk-container-id-1 div.sk-toggleable__content {max-height: 0;max-width: 0;overflow: hidden;text-align: left;background-color: #f0f8ff;}#sk-container-id-1 div.sk-toggleable__content pre {margin: 0.2em;color: black;border-radius: 0.25em;background-color: #f0f8ff;}#sk-container-id-1 input.sk-toggleable__control:checked~div.sk-toggleable__content {max-height: 200px;max-width: 100%;overflow: auto;}#sk-container-id-1 input.sk-toggleable__control:checked~label.sk-toggleable__label-arrow:before {content: \"▾\";}#sk-container-id-1 div.sk-estimator input.sk-toggleable__control:checked~label.sk-toggleable__label {background-color: #d4ebff;}#sk-container-id-1 div.sk-label input.sk-toggleable__control:checked~label.sk-toggleable__label {background-color: #d4ebff;}#sk-container-id-1 input.sk-hidden--visually {border: 0;clip: rect(1px 1px 1px 1px);clip: rect(1px, 1px, 1px, 1px);height: 1px;margin: -1px;overflow: hidden;padding: 0;position: absolute;width: 1px;}#sk-container-id-1 div.sk-estimator {font-family: monospace;background-color: #f0f8ff;border: 1px dotted black;border-radius: 0.25em;box-sizing: border-box;margin-bottom: 0.5em;}#sk-container-id-1 div.sk-estimator:hover {background-color: #d4ebff;}#sk-container-id-1 div.sk-parallel-item::after {content: \"\";width: 100%;border-bottom: 1px solid gray;flex-grow: 1;}#sk-container-id-1 div.sk-label:hover label.sk-toggleable__label {background-color: #d4ebff;}#sk-container-id-1 div.sk-serial::before {content: \"\";position: absolute;border-left: 1px solid gray;box-sizing: border-box;top: 0;bottom: 0;left: 50%;z-index: 0;}#sk-container-id-1 div.sk-serial {display: flex;flex-direction: column;align-items: center;background-color: white;padding-right: 0.2em;padding-left: 0.2em;position: relative;}#sk-container-id-1 div.sk-item {position: relative;z-index: 1;}#sk-container-id-1 div.sk-parallel {display: flex;align-items: stretch;justify-content: center;background-color: white;position: relative;}#sk-container-id-1 div.sk-item::before, #sk-container-id-1 div.sk-parallel-item::before {content: \"\";position: absolute;border-left: 1px solid gray;box-sizing: border-box;top: 0;bottom: 0;left: 50%;z-index: -1;}#sk-container-id-1 div.sk-parallel-item {display: flex;flex-direction: column;z-index: 1;position: relative;background-color: white;}#sk-container-id-1 div.sk-parallel-item:first-child::after {align-self: flex-end;width: 50%;}#sk-container-id-1 div.sk-parallel-item:last-child::after {align-self: flex-start;width: 50%;}#sk-container-id-1 div.sk-parallel-item:only-child::after {width: 0;}#sk-container-id-1 div.sk-dashed-wrapped {border: 1px dashed gray;margin: 0 0.4em 0.5em 0.4em;box-sizing: border-box;padding-bottom: 0.4em;background-color: white;}#sk-container-id-1 div.sk-label label {font-family: monospace;font-weight: bold;display: inline-block;line-height: 1.2em;}#sk-container-id-1 div.sk-label-container {text-align: center;}#sk-container-id-1 div.sk-container {/* jupyter's `normalize.less` sets `[hidden] { display: none; }` but bootstrap.min.css set `[hidden] { display: none !important; }` so we also need the `!important` here to be able to override the default hidden behavior on the sphinx rendered scikit-learn.org. See: https://github.com/scikit-learn/scikit-learn/issues/21755 */display: inline-block !important;position: relative;}#sk-container-id-1 div.sk-text-repr-fallback {display: none;}</style><div id=\"sk-container-id-1\" class=\"sk-top-container\"><div class=\"sk-text-repr-fallback\"><pre>KMeans(n_clusters=3)</pre><b>In a Jupyter environment, please rerun this cell to show the HTML representation or trust the notebook. <br />On GitHub, the HTML representation is unable to render, please try loading this page with nbviewer.org.</b></div><div class=\"sk-container\" hidden><div class=\"sk-item\"><div class=\"sk-estimator sk-toggleable\"><input class=\"sk-toggleable__control sk-hidden--visually\" id=\"sk-estimator-id-1\" type=\"checkbox\" checked><label for=\"sk-estimator-id-1\" class=\"sk-toggleable__label sk-toggleable__label-arrow\">KMeans</label><div class=\"sk-toggleable__content\"><pre>KMeans(n_clusters=3)</pre></div></div></div></div></div>"
     },
     "execution_count": 9,
     "metadata": {},
     "output_type": "execute_result"
    }
   ],
   "source": [
    "model.fit(points)"
   ],
   "metadata": {
    "collapsed": false
   }
  },
  {
   "cell_type": "code",
   "execution_count": 10,
   "outputs": [],
   "source": [
    "cluster_array = model.labels_"
   ],
   "metadata": {
    "collapsed": false
   }
  },
  {
   "cell_type": "code",
   "execution_count": 11,
   "outputs": [
    {
     "data": {
      "text/plain": "array([0, 2, 2, ..., 0, 0, 0])"
     },
     "execution_count": 11,
     "metadata": {},
     "output_type": "execute_result"
    }
   ],
   "source": [
    "cluster_array"
   ],
   "metadata": {
    "collapsed": false
   }
  },
  {
   "cell_type": "markdown",
   "source": [
    "## Visualisasi"
   ],
   "metadata": {
    "collapsed": false
   }
  },
  {
   "cell_type": "code",
   "execution_count": 12,
   "outputs": [],
   "source": [
    "cluster_range = range(1,11)\n",
    "inertias = []\n",
    "\n",
    "for k in cluster_range:\n",
    "    model = KMeans(n_clusters=k)\n",
    "    model.fit(points)\n",
    "    inertias.append(model.inertia_)"
   ],
   "metadata": {
    "collapsed": false
   }
  },
  {
   "cell_type": "code",
   "execution_count": 13,
   "outputs": [
    {
     "data": {
      "text/plain": "<Figure size 500x500 with 1 Axes>",
      "image/png": "[encoded data removed]"
     },
     "metadata": {},
     "output_type": "display_data"
    }
   ],
   "source": [
    "plt.figure(figsize=(5,5))\n",
    "plt.plot(cluster_range, inertias, '-o')\n",
    "plt.title('Grafik Elbow')\n",
    "plt.xlabel(\"Cluster ke- \")\n",
    "plt.ylabel('inertia')\n",
    "plt.show()"
   ],
   "metadata": {
    "collapsed": false
   }
  },
  {
   "cell_type": "code",
   "execution_count": null,
   "outputs": [],
   "source": [],
   "metadata": {
    "collapsed": false
   }
  }
 ],
 "metadata": {
  "kernelspec": {
   "display_name": "Python 3",
   "language": "python",
   "name": "python3"
  },
  "language_info": {
   "codemirror_mode": {
    "name": "ipython",
    "version": 2
   },
   "file_extension": ".py",
   "mimetype": "text/x-python",
   "name": "python",
   "nbconvert_exporter": "python",
   "pygments_lexer": "ipython2",
   "version": "2.7.6"
  }
 },
 "nbformat": 4,
 "nbformat_minor": 0
}
