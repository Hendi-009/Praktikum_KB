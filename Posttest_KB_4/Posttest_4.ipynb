{
 "cells": [
  {
   "cell_type": "markdown",
   "source": [
    "# Posttest_4\n",
    "Nama  : Hendi\n",
    "NIM   : 2009106009\n",
    "Kelas : Praktikum Kecerdasn Buatan A1 2020"
   ],
   "metadata": {
    "collapsed": false
   }
  },
  {
   "cell_type": "markdown",
   "source": [
    "## Import Library"
   ],
   "metadata": {
    "collapsed": false
   }
  },
  {
   "cell_type": "code",
   "execution_count": 71,
   "outputs": [],
   "source": [
    "import pandas as pd\n",
    "import numpy as np\n",
    "from sklearn.model_selection import train_test_split\n",
    "from sklearn.preprocessing import MinMaxScaler\n",
    "from sklearn.preprocessing import StandardScaler\n",
    "from sklearn.impute import SimpleImputer\n",
    "from sklearn.preprocessing import OneHotEncoder"
   ],
   "metadata": {
    "collapsed": false
   }
  },
  {
   "cell_type": "code",
   "execution_count": 72,
   "outputs": [
    {
     "data": {
      "text/plain": "   age          workclass   fnlwgt   education   education-num  \\\n0   39          State-gov    77516   Bachelors              13   \n1   50   Self-emp-not-inc    83311   Bachelors              13   \n2   38            Private   215646     HS-grad               9   \n3   53            Private   234721        11th               7   \n4   28            Private   338409   Bachelors              13   \n\n        marital-status          occupation    relationship    race      sex  \\\n0        Never-married        Adm-clerical   Not-in-family   White     Male   \n1   Married-civ-spouse     Exec-managerial         Husband   White     Male   \n2             Divorced   Handlers-cleaners   Not-in-family   White     Male   \n3   Married-civ-spouse   Handlers-cleaners         Husband   Black     Male   \n4   Married-civ-spouse      Prof-specialty            Wife   Black   Female   \n\n    capital-gain   capital-loss   hours-per-week  native-country  income  \n0           2174              0               40   United-States   <=50K  \n1              0              0               13   United-States   <=50K  \n2              0              0               40   United-States   <=50K  \n3              0              0               40   United-States   <=50K  \n4              0              0               40            Cuba   <=50K  ",
      "text/html": "<div>\n<style scoped>\n    .dataframe tbody tr th:only-of-type {\n        vertical-align: middle;\n    }\n\n    .dataframe tbody tr th {\n        vertical-align: top;\n    }\n\n    .dataframe thead th {\n        text-align: right;\n    }\n</style>\n<table border=\"1\" class=\"dataframe\">\n  <thead>\n    <tr style=\"text-align: right;\">\n      <th></th>\n      <th>age</th>\n      <th>workclass</th>\n      <th>fnlwgt</th>\n      <th>education</th>\n      <th>education-num</th>\n      <th>marital-status</th>\n      <th>occupation</th>\n      <th>relationship</th>\n      <th>race</th>\n      <th>sex</th>\n      <th>capital-gain</th>\n      <th>capital-loss</th>\n      <th>hours-per-week</th>\n      <th>native-country</th>\n      <th>income</th>\n    </tr>\n  </thead>\n  <tbody>\n    <tr>\n      <th>0</th>\n      <td>39</td>\n      <td>State-gov</td>\n      <td>77516</td>\n      <td>Bachelors</td>\n      <td>13</td>\n      <td>Never-married</td>\n      <td>Adm-clerical</td>\n      <td>Not-in-family</td>\n      <td>White</td>\n      <td>Male</td>\n      <td>2174</td>\n      <td>0</td>\n      <td>40</td>\n      <td>United-States</td>\n      <td>&lt;=50K</td>\n    </tr>\n    <tr>\n      <th>1</th>\n      <td>50</td>\n      <td>Self-emp-not-inc</td>\n      <td>83311</td>\n      <td>Bachelors</td>\n      <td>13</td>\n      <td>Married-civ-spouse</td>\n      <td>Exec-managerial</td>\n      <td>Husband</td>\n      <td>White</td>\n      <td>Male</td>\n      <td>0</td>\n      <td>0</td>\n      <td>13</td>\n      <td>United-States</td>\n      <td>&lt;=50K</td>\n    </tr>\n    <tr>\n      <th>2</th>\n      <td>38</td>\n      <td>Private</td>\n      <td>215646</td>\n      <td>HS-grad</td>\n      <td>9</td>\n      <td>Divorced</td>\n      <td>Handlers-cleaners</td>\n      <td>Not-in-family</td>\n      <td>White</td>\n      <td>Male</td>\n      <td>0</td>\n      <td>0</td>\n      <td>40</td>\n      <td>United-States</td>\n      <td>&lt;=50K</td>\n    </tr>\n    <tr>\n      <th>3</th>\n      <td>53</td>\n      <td>Private</td>\n      <td>234721</td>\n      <td>11th</td>\n      <td>7</td>\n      <td>Married-civ-spouse</td>\n      <td>Handlers-cleaners</td>\n      <td>Husband</td>\n      <td>Black</td>\n      <td>Male</td>\n      <td>0</td>\n      <td>0</td>\n      <td>40</td>\n      <td>United-States</td>\n      <td>&lt;=50K</td>\n    </tr>\n    <tr>\n      <th>4</th>\n      <td>28</td>\n      <td>Private</td>\n      <td>338409</td>\n      <td>Bachelors</td>\n      <td>13</td>\n      <td>Married-civ-spouse</td>\n      <td>Prof-specialty</td>\n      <td>Wife</td>\n      <td>Black</td>\n      <td>Female</td>\n      <td>0</td>\n      <td>0</td>\n      <td>40</td>\n      <td>Cuba</td>\n      <td>&lt;=50K</td>\n    </tr>\n  </tbody>\n</table>\n</div>"
     },
     "execution_count": 72,
     "metadata": {},
     "output_type": "execute_result"
    }
   ],
   "source": [
    "df = pd.read_csv(\"income_evaluation.csv\")\n",
    "df.head()"
   ],
   "metadata": {
    "collapsed": false
   }
  },
  {
   "cell_type": "markdown",
   "source": [
    "## Data Split"
   ],
   "metadata": {
    "collapsed": false
   }
  },
  {
   "cell_type": "code",
   "execution_count": 73,
   "outputs": [],
   "source": [
    "Y = df.iloc[:,-1]\n",
    "X = df.iloc[:,:-1]\n",
    "\n",
    "X_train, X_test, Y_train, Y_test = train_test_split(X, Y, test_size=0.3)"
   ],
   "metadata": {
    "collapsed": false
   }
  },
  {
   "cell_type": "code",
   "execution_count": 74,
   "outputs": [
    {
     "name": "stdout",
     "output_type": "stream",
     "text": [
      "X_train :  (22792, 14)\n",
      "X_train :  (9769, 14)\n",
      "Y_train :  (22792,)\n",
      "Y_test :  (9769,)\n"
     ]
    }
   ],
   "source": [
    "print(\"X_train : \", X_train.shape)\n",
    "print(\"X_train : \", X_test.shape)\n",
    "print(\"Y_train : \", Y_train.shape)\n",
    "print(\"Y_test : \", Y_test.shape)"
   ],
   "metadata": {
    "collapsed": false
   }
  },
  {
   "cell_type": "markdown",
   "source": [
    "## Normalisasi Data"
   ],
   "metadata": {
    "collapsed": false
   }
  },
  {
   "cell_type": "code",
   "execution_count": 75,
   "outputs": [
    {
     "data": {
      "text/plain": "age                 int64\n workclass         object\n fnlwgt             int64\n education         object\n education-num      int64\n marital-status    object\n occupation        object\n relationship      object\n race              object\n sex               object\n capital-gain       int64\n capital-loss       int64\n hours-per-week     int64\n native-country    object\n income            object\ndtype: object"
     },
     "execution_count": 75,
     "metadata": {},
     "output_type": "execute_result"
    }
   ],
   "source": [
    "df.dtypes"
   ],
   "metadata": {
    "collapsed": false
   }
  },
  {
   "cell_type": "code",
   "execution_count": 76,
   "outputs": [
    {
     "data": {
      "text/plain": "   age   fnlwgt   education-num   capital-gain   capital-loss   hours-per-week\n0   39    77516              13           2174              0               40\n1   50    83311              13              0              0               13\n2   38   215646               9              0              0               40\n3   53   234721               7              0              0               40\n4   28   338409              13              0              0               40",
      "text/html": "<div>\n<style scoped>\n    .dataframe tbody tr th:only-of-type {\n        vertical-align: middle;\n    }\n\n    .dataframe tbody tr th {\n        vertical-align: top;\n    }\n\n    .dataframe thead th {\n        text-align: right;\n    }\n</style>\n<table border=\"1\" class=\"dataframe\">\n  <thead>\n    <tr style=\"text-align: right;\">\n      <th></th>\n      <th>age</th>\n      <th>fnlwgt</th>\n      <th>education-num</th>\n      <th>capital-gain</th>\n      <th>capital-loss</th>\n      <th>hours-per-week</th>\n    </tr>\n  </thead>\n  <tbody>\n    <tr>\n      <th>0</th>\n      <td>39</td>\n      <td>77516</td>\n      <td>13</td>\n      <td>2174</td>\n      <td>0</td>\n      <td>40</td>\n    </tr>\n    <tr>\n      <th>1</th>\n      <td>50</td>\n      <td>83311</td>\n      <td>13</td>\n      <td>0</td>\n      <td>0</td>\n      <td>13</td>\n    </tr>\n    <tr>\n      <th>2</th>\n      <td>38</td>\n      <td>215646</td>\n      <td>9</td>\n      <td>0</td>\n      <td>0</td>\n      <td>40</td>\n    </tr>\n    <tr>\n      <th>3</th>\n      <td>53</td>\n      <td>234721</td>\n      <td>7</td>\n      <td>0</td>\n      <td>0</td>\n      <td>40</td>\n    </tr>\n    <tr>\n      <th>4</th>\n      <td>28</td>\n      <td>338409</td>\n      <td>13</td>\n      <td>0</td>\n      <td>0</td>\n      <td>40</td>\n    </tr>\n  </tbody>\n</table>\n</div>"
     },
     "execution_count": 76,
     "metadata": {},
     "output_type": "execute_result"
    }
   ],
   "source": [
    "df2 = df[['age', ' fnlwgt', ' education-num', ' capital-gain', ' capital-loss', ' hours-per-week']]\n",
    "df2.head()"
   ],
   "metadata": {
    "collapsed": false
   }
  },
  {
   "cell_type": "code",
   "execution_count": 77,
   "outputs": [],
   "source": [
    "ss = MinMaxScaler()"
   ],
   "metadata": {
    "collapsed": false
   }
  },
  {
   "cell_type": "markdown",
   "source": [
    "## Standarisasi Data"
   ],
   "metadata": {
    "collapsed": false
   }
  },
  {
   "cell_type": "code",
   "execution_count": 78,
   "outputs": [],
   "source": [
    "Scaled_data = ss.fit_transform(df2)"
   ],
   "metadata": {
    "collapsed": false
   }
  },
  {
   "cell_type": "code",
   "execution_count": 79,
   "outputs": [
    {
     "name": "stdout",
     "output_type": "stream",
     "text": [
      "Data Sebelum scalling : \n",
      "       age   fnlwgt   education-num   capital-gain   capital-loss  \\\n",
      "0       39    77516              13           2174              0   \n",
      "1       50    83311              13              0              0   \n",
      "2       38   215646               9              0              0   \n",
      "3       53   234721               7              0              0   \n",
      "4       28   338409              13              0              0   \n",
      "...    ...      ...             ...            ...            ...   \n",
      "32556   27   257302              12              0              0   \n",
      "32557   40   154374               9              0              0   \n",
      "32558   58   151910               9              0              0   \n",
      "32559   22   201490               9              0              0   \n",
      "32560   52   287927               9          15024              0   \n",
      "\n",
      "        hours-per-week  \n",
      "0                   40  \n",
      "1                   13  \n",
      "2                   40  \n",
      "3                   40  \n",
      "4                   40  \n",
      "...                ...  \n",
      "32556               38  \n",
      "32557               40  \n",
      "32558               40  \n",
      "32559               20  \n",
      "32560               40  \n",
      "\n",
      "[32561 rows x 6 columns]\n",
      "Nilai standar deviasi: \n",
      " age                    13.640223\n",
      " fnlwgt            105548.356881\n",
      " education-num          2.572681\n",
      " capital-gain        7385.178677\n",
      " capital-loss         402.954031\n",
      " hours-per-week        12.347239\n",
      "dtype: float64\n"
     ]
    }
   ],
   "source": [
    "print(\"Data Sebelum scalling : \")\n",
    "print(df2)\n",
    "print(\"Nilai standar deviasi: \\n\", np.std(df2))"
   ],
   "metadata": {
    "collapsed": false
   }
  },
  {
   "cell_type": "code",
   "execution_count": 80,
   "outputs": [
    {
     "name": "stdout",
     "output_type": "stream",
     "text": [
      "Data sesudah scalling : \n",
      "[[0.30136986 0.0443019  0.8        0.02174022 0.         0.39795918]\n",
      " [0.45205479 0.0482376  0.8        0.         0.         0.12244898]\n",
      " [0.28767123 0.13811345 0.53333333 0.         0.         0.39795918]\n",
      " ...\n",
      " [0.56164384 0.09482688 0.53333333 0.         0.         0.39795918]\n",
      " [0.06849315 0.12849934 0.53333333 0.         0.         0.19387755]\n",
      " [0.47945205 0.18720338 0.53333333 0.1502415  0.         0.39795918]]\n",
      "Nilai standar deviasi:  0.2508287602095078\n"
     ]
    }
   ],
   "source": [
    "print(\"Data sesudah scalling : \")\n",
    "print(Scaled_data)\n",
    "print(\"Nilai standar deviasi: \", np.std(Scaled_data))"
   ],
   "metadata": {
    "collapsed": false
   }
  },
  {
   "cell_type": "code",
   "execution_count": 81,
   "outputs": [
    {
     "data": {
      "text/plain": "   age   fnlwgt   education-num   capital-gain   capital-loss   hours-per-week\n0   39    77516              13           2174              0               40\n1   50    83311              13              0              0               13\n2   38   215646               9              0              0               40\n3   53   234721               7              0              0               40\n4   28   338409              13              0              0               40",
      "text/html": "<div>\n<style scoped>\n    .dataframe tbody tr th:only-of-type {\n        vertical-align: middle;\n    }\n\n    .dataframe tbody tr th {\n        vertical-align: top;\n    }\n\n    .dataframe thead th {\n        text-align: right;\n    }\n</style>\n<table border=\"1\" class=\"dataframe\">\n  <thead>\n    <tr style=\"text-align: right;\">\n      <th></th>\n      <th>age</th>\n      <th>fnlwgt</th>\n      <th>education-num</th>\n      <th>capital-gain</th>\n      <th>capital-loss</th>\n      <th>hours-per-week</th>\n    </tr>\n  </thead>\n  <tbody>\n    <tr>\n      <th>0</th>\n      <td>39</td>\n      <td>77516</td>\n      <td>13</td>\n      <td>2174</td>\n      <td>0</td>\n      <td>40</td>\n    </tr>\n    <tr>\n      <th>1</th>\n      <td>50</td>\n      <td>83311</td>\n      <td>13</td>\n      <td>0</td>\n      <td>0</td>\n      <td>13</td>\n    </tr>\n    <tr>\n      <th>2</th>\n      <td>38</td>\n      <td>215646</td>\n      <td>9</td>\n      <td>0</td>\n      <td>0</td>\n      <td>40</td>\n    </tr>\n    <tr>\n      <th>3</th>\n      <td>53</td>\n      <td>234721</td>\n      <td>7</td>\n      <td>0</td>\n      <td>0</td>\n      <td>40</td>\n    </tr>\n    <tr>\n      <th>4</th>\n      <td>28</td>\n      <td>338409</td>\n      <td>13</td>\n      <td>0</td>\n      <td>0</td>\n      <td>40</td>\n    </tr>\n  </tbody>\n</table>\n</div>"
     },
     "execution_count": 81,
     "metadata": {},
     "output_type": "execute_result"
    }
   ],
   "source": [
    "df3 = df[['age', ' fnlwgt', ' education-num', ' capital-gain', ' capital-loss', ' hours-per-week'  ]]\n",
    "df3.head()"
   ],
   "metadata": {
    "collapsed": false
   }
  },
  {
   "cell_type": "code",
   "execution_count": 82,
   "outputs": [],
   "source": [
    "ss = StandardScaler()\n",
    "Scaled_data = ss.fit_transform(df3)"
   ],
   "metadata": {
    "collapsed": false
   }
  },
  {
   "cell_type": "code",
   "execution_count": 83,
   "outputs": [
    {
     "name": "stdout",
     "output_type": "stream",
     "text": [
      "Data Sebelum scalling : \n",
      "       age   fnlwgt   education-num   capital-gain   capital-loss  \\\n",
      "0       39    77516              13           2174              0   \n",
      "1       50    83311              13              0              0   \n",
      "2       38   215646               9              0              0   \n",
      "3       53   234721               7              0              0   \n",
      "4       28   338409              13              0              0   \n",
      "...    ...      ...             ...            ...            ...   \n",
      "32556   27   257302              12              0              0   \n",
      "32557   40   154374               9              0              0   \n",
      "32558   58   151910               9              0              0   \n",
      "32559   22   201490               9              0              0   \n",
      "32560   52   287927               9          15024              0   \n",
      "\n",
      "        hours-per-week  \n",
      "0                   40  \n",
      "1                   13  \n",
      "2                   40  \n",
      "3                   40  \n",
      "4                   40  \n",
      "...                ...  \n",
      "32556               38  \n",
      "32557               40  \n",
      "32558               40  \n",
      "32559               20  \n",
      "32560               40  \n",
      "\n",
      "[32561 rows x 6 columns]\n",
      "Nilai standar deviasi: \n",
      " age                    13.640223\n",
      " fnlwgt            105548.356881\n",
      " education-num          2.572681\n",
      " capital-gain        7385.178677\n",
      " capital-loss         402.954031\n",
      " hours-per-week        12.347239\n",
      "dtype: float64\n"
     ]
    }
   ],
   "source": [
    "print(\"Data Sebelum scalling : \")\n",
    "print(df3)\n",
    "print(\"Nilai standar deviasi: \\n\", np.std(df3))"
   ],
   "metadata": {
    "collapsed": false
   }
  },
  {
   "cell_type": "code",
   "execution_count": 84,
   "outputs": [
    {
     "name": "stdout",
     "output_type": "stream",
     "text": [
      "Data sesudah scalling : \n",
      "[[ 0.03067056 -1.06361075  1.13473876  0.1484529  -0.21665953 -0.03542945]\n",
      " [ 0.83710898 -1.008707    1.13473876 -0.14592048 -0.21665953 -2.22215312]\n",
      " [-0.04264203  0.2450785  -0.42005962 -0.14592048 -0.21665953 -0.03542945]\n",
      " ...\n",
      " [ 1.42360965 -0.35877741 -0.42005962 -0.14592048 -0.21665953 -0.03542945]\n",
      " [-1.21564337  0.11095988 -0.42005962 -0.14592048 -0.21665953 -1.65522476]\n",
      " [ 0.98373415  0.92989258 -0.42005962  1.88842434 -0.21665953 -0.03542945]]\n",
      "Nilai standar deviasi:  1.0\n"
     ]
    }
   ],
   "source": [
    "print(\"Data sesudah scalling : \")\n",
    "print(Scaled_data)\n",
    "print(\"Nilai standar deviasi: \", np.std(Scaled_data))"
   ],
   "metadata": {
    "collapsed": false
   }
  },
  {
   "cell_type": "markdown",
   "source": [
    "## Data Cleaning"
   ],
   "metadata": {
    "collapsed": false
   }
  },
  {
   "cell_type": "code",
   "execution_count": 85,
   "outputs": [
    {
     "data": {
      "text/plain": "age                0\n workclass         0\n fnlwgt            0\n education         0\n education-num     0\n marital-status    0\n occupation        0\n relationship      0\n race              0\n sex               0\n capital-gain      0\n capital-loss      0\n hours-per-week    0\n native-country    0\n income            0\ndtype: int64"
     },
     "execution_count": 85,
     "metadata": {},
     "output_type": "execute_result"
    }
   ],
   "source": [
    "df.isna().sum()"
   ],
   "metadata": {
    "collapsed": false
   }
  },
  {
   "cell_type": "code",
   "execution_count": 86,
   "outputs": [
    {
     "data": {
      "text/plain": "age                 int64\n workclass         object\n fnlwgt             int64\n education         object\n education-num      int64\n marital-status    object\n occupation        object\n relationship      object\n race              object\n sex               object\n capital-gain       int64\n capital-loss       int64\n hours-per-week     int64\n native-country    object\n income            object\ndtype: object"
     },
     "execution_count": 86,
     "metadata": {},
     "output_type": "execute_result"
    }
   ],
   "source": [
    "df.dtypes"
   ],
   "metadata": {
    "collapsed": false
   }
  },
  {
   "cell_type": "code",
   "execution_count": 87,
   "outputs": [],
   "source": [
    "imputer = SimpleImputer(strategy='most_frequent' )\n",
    "\n",
    "df[\"age\"] = imputer.fit_transform(df[[\"age\"]])\n",
    "df[\"fnlwgt\"] = imputer.fit_transform(df[[\" fnlwgt\"]])\n",
    "df[\" education-num\"] = imputer.fit_transform(df[[\" education-num\"]])\n",
    "df[\" capital-gain\"] = imputer.fit_transform(df[[\" capital-gain\"]])\n",
    "df[\" capital-loss\"] = imputer.fit_transform(df[[\" capital-loss\"]])\n",
    "df[\" hours-per-week\"] = imputer.fit_transform(df[[\" hours-per-week\"]])"
   ],
   "metadata": {
    "collapsed": false
   }
  },
  {
   "cell_type": "code",
   "execution_count": 88,
   "outputs": [
    {
     "data": {
      "text/plain": "age                0\n workclass         0\n fnlwgt            0\n education         0\n education-num     0\n marital-status    0\n occupation        0\n relationship      0\n race              0\n sex               0\n capital-gain      0\n capital-loss      0\n hours-per-week    0\n native-country    0\n income            0\nfnlwgt             0\ndtype: int64"
     },
     "execution_count": 88,
     "metadata": {},
     "output_type": "execute_result"
    }
   ],
   "source": [
    "df.isna().sum()"
   ],
   "metadata": {
    "collapsed": false
   }
  },
  {
   "cell_type": "markdown",
   "source": [
    "## Data Cleaning (Duplikat)"
   ],
   "metadata": {
    "collapsed": false
   }
  },
  {
   "cell_type": "code",
   "execution_count": 89,
   "outputs": [
    {
     "name": "stdout",
     "output_type": "stream",
     "text": [
      "Data Duplikat: \n"
     ]
    },
    {
     "data": {
      "text/plain": "       age          workclass   fnlwgt      education   education-num  \\\n4881    25            Private   308144      Bachelors              13   \n5104    90            Private    52386   Some-college              10   \n9171    21            Private   250051   Some-college              10   \n11631   20            Private   107658   Some-college              10   \n13084   25            Private   195994        1st-4th               2   \n15059   21            Private   243368      Preschool               1   \n17040   46            Private   173243        HS-grad               9   \n18555   30            Private   144593        HS-grad               9   \n18698   19            Private    97261        HS-grad               9   \n21318   19            Private   138153   Some-college              10   \n21490   19            Private   146679   Some-college              10   \n21875   49            Private    31267        7th-8th               4   \n22300   25            Private   195994        1st-4th               2   \n22367   44            Private   367749      Bachelors              13   \n22494   49   Self-emp-not-inc    43479   Some-college              10   \n25872   23            Private   240137        5th-6th               3   \n26313   28            Private   274679        Masters              14   \n28230   27            Private   255582        HS-grad               9   \n28522   42            Private   204235   Some-college              10   \n28846   39            Private    30916        HS-grad               9   \n29157   38            Private   207202        HS-grad               9   \n30845   46            Private   133616   Some-college              10   \n31993   19            Private   251579   Some-college              10   \n32404   35            Private   379959        HS-grad               9   \n\n            marital-status          occupation    relationship  \\\n4881         Never-married        Craft-repair   Not-in-family   \n5104         Never-married       Other-service   Not-in-family   \n9171         Never-married      Prof-specialty       Own-child   \n11631        Never-married        Tech-support   Not-in-family   \n13084        Never-married     Priv-house-serv   Not-in-family   \n15059        Never-married     Farming-fishing   Not-in-family   \n17040   Married-civ-spouse        Craft-repair         Husband   \n18555        Never-married       Other-service   Not-in-family   \n18698        Never-married     Farming-fishing   Not-in-family   \n21318        Never-married        Adm-clerical       Own-child   \n21490        Never-married     Exec-managerial       Own-child   \n21875   Married-civ-spouse        Craft-repair         Husband   \n22300        Never-married     Priv-house-serv   Not-in-family   \n22367        Never-married      Prof-specialty   Not-in-family   \n22494   Married-civ-spouse        Craft-repair         Husband   \n25872        Never-married   Handlers-cleaners   Not-in-family   \n26313        Never-married      Prof-specialty   Not-in-family   \n28230        Never-married   Machine-op-inspct   Not-in-family   \n28522   Married-civ-spouse      Prof-specialty         Husband   \n28846   Married-civ-spouse        Craft-repair         Husband   \n29157   Married-civ-spouse   Machine-op-inspct         Husband   \n30845             Divorced        Adm-clerical       Unmarried   \n31993        Never-married       Other-service       Own-child   \n32404             Divorced       Other-service   Not-in-family   \n\n                      race      sex   capital-gain   capital-loss  \\\n4881                 White     Male              0              0   \n5104    Asian-Pac-Islander     Male              0              0   \n9171                 White   Female              0              0   \n11631                White   Female              0              0   \n13084                White   Female              0              0   \n15059                White     Male              0              0   \n17040                White     Male              0              0   \n18555                Black     Male              0              0   \n18698                White     Male              0              0   \n21318                White   Female              0              0   \n21490                Black     Male              0              0   \n21875                White     Male              0              0   \n22300                White   Female              0              0   \n22367                White   Female              0              0   \n22494                White     Male              0              0   \n25872                White     Male              0              0   \n26313                White     Male              0              0   \n28230                White   Female              0              0   \n28522                White     Male              0              0   \n28846                White     Male              0              0   \n29157                White     Male              0              0   \n30845                White   Female              0              0   \n31993                White     Male              0              0   \n32404                White   Female              0              0   \n\n        hours-per-week  native-country  income  fnlwgt  \n4881                40          Mexico   <=50K  308144  \n5104                35   United-States   <=50K   52386  \n9171                10   United-States   <=50K  250051  \n11631               10   United-States   <=50K  107658  \n13084               40       Guatemala   <=50K  195994  \n15059               50          Mexico   <=50K  243368  \n17040               40   United-States   <=50K  173243  \n18555               40               ?   <=50K  144593  \n18698               40   United-States   <=50K   97261  \n21318               10   United-States   <=50K  138153  \n21490               30   United-States   <=50K  146679  \n21875               40   United-States   <=50K   31267  \n22300               40       Guatemala   <=50K  195994  \n22367               45          Mexico   <=50K  367749  \n22494               40   United-States   <=50K   43479  \n25872               55          Mexico   <=50K  240137  \n26313               50   United-States   <=50K  274679  \n28230               40   United-States   <=50K  255582  \n28522               40   United-States    >50K  204235  \n28846               40   United-States   <=50K   30916  \n29157               48   United-States    >50K  207202  \n30845               40   United-States   <=50K  133616  \n31993               14   United-States   <=50K  251579  \n32404               40   United-States   <=50K  379959  ",
      "text/html": "<div>\n<style scoped>\n    .dataframe tbody tr th:only-of-type {\n        vertical-align: middle;\n    }\n\n    .dataframe tbody tr th {\n        vertical-align: top;\n    }\n\n    .dataframe thead th {\n        text-align: right;\n    }\n</style>\n<table border=\"1\" class=\"dataframe\">\n  <thead>\n    <tr style=\"text-align: right;\">\n      <th></th>\n      <th>age</th>\n      <th>workclass</th>\n      <th>fnlwgt</th>\n      <th>education</th>\n      <th>education-num</th>\n      <th>marital-status</th>\n      <th>occupation</th>\n      <th>relationship</th>\n      <th>race</th>\n      <th>sex</th>\n      <th>capital-gain</th>\n      <th>capital-loss</th>\n      <th>hours-per-week</th>\n      <th>native-country</th>\n      <th>income</th>\n      <th>fnlwgt</th>\n    </tr>\n  </thead>\n  <tbody>\n    <tr>\n      <th>4881</th>\n      <td>25</td>\n      <td>Private</td>\n      <td>308144</td>\n      <td>Bachelors</td>\n      <td>13</td>\n      <td>Never-married</td>\n      <td>Craft-repair</td>\n      <td>Not-in-family</td>\n      <td>White</td>\n      <td>Male</td>\n      <td>0</td>\n      <td>0</td>\n      <td>40</td>\n      <td>Mexico</td>\n      <td>&lt;=50K</td>\n      <td>308144</td>\n    </tr>\n    <tr>\n      <th>5104</th>\n      <td>90</td>\n      <td>Private</td>\n      <td>52386</td>\n      <td>Some-college</td>\n      <td>10</td>\n      <td>Never-married</td>\n      <td>Other-service</td>\n      <td>Not-in-family</td>\n      <td>Asian-Pac-Islander</td>\n      <td>Male</td>\n      <td>0</td>\n      <td>0</td>\n      <td>35</td>\n      <td>United-States</td>\n      <td>&lt;=50K</td>\n      <td>52386</td>\n    </tr>\n    <tr>\n      <th>9171</th>\n      <td>21</td>\n      <td>Private</td>\n      <td>250051</td>\n      <td>Some-college</td>\n      <td>10</td>\n      <td>Never-married</td>\n      <td>Prof-specialty</td>\n      <td>Own-child</td>\n      <td>White</td>\n      <td>Female</td>\n      <td>0</td>\n      <td>0</td>\n      <td>10</td>\n      <td>United-States</td>\n      <td>&lt;=50K</td>\n      <td>250051</td>\n    </tr>\n    <tr>\n      <th>11631</th>\n      <td>20</td>\n      <td>Private</td>\n      <td>107658</td>\n      <td>Some-college</td>\n      <td>10</td>\n      <td>Never-married</td>\n      <td>Tech-support</td>\n      <td>Not-in-family</td>\n      <td>White</td>\n      <td>Female</td>\n      <td>0</td>\n      <td>0</td>\n      <td>10</td>\n      <td>United-States</td>\n      <td>&lt;=50K</td>\n      <td>107658</td>\n    </tr>\n    <tr>\n      <th>13084</th>\n      <td>25</td>\n      <td>Private</td>\n      <td>195994</td>\n      <td>1st-4th</td>\n      <td>2</td>\n      <td>Never-married</td>\n      <td>Priv-house-serv</td>\n      <td>Not-in-family</td>\n      <td>White</td>\n      <td>Female</td>\n      <td>0</td>\n      <td>0</td>\n      <td>40</td>\n      <td>Guatemala</td>\n      <td>&lt;=50K</td>\n      <td>195994</td>\n    </tr>\n    <tr>\n      <th>15059</th>\n      <td>21</td>\n      <td>Private</td>\n      <td>243368</td>\n      <td>Preschool</td>\n      <td>1</td>\n      <td>Never-married</td>\n      <td>Farming-fishing</td>\n      <td>Not-in-family</td>\n      <td>White</td>\n      <td>Male</td>\n      <td>0</td>\n      <td>0</td>\n      <td>50</td>\n      <td>Mexico</td>\n      <td>&lt;=50K</td>\n      <td>243368</td>\n    </tr>\n    <tr>\n      <th>17040</th>\n      <td>46</td>\n      <td>Private</td>\n      <td>173243</td>\n      <td>HS-grad</td>\n      <td>9</td>\n      <td>Married-civ-spouse</td>\n      <td>Craft-repair</td>\n      <td>Husband</td>\n      <td>White</td>\n      <td>Male</td>\n      <td>0</td>\n      <td>0</td>\n      <td>40</td>\n      <td>United-States</td>\n      <td>&lt;=50K</td>\n      <td>173243</td>\n    </tr>\n    <tr>\n      <th>18555</th>\n      <td>30</td>\n      <td>Private</td>\n      <td>144593</td>\n      <td>HS-grad</td>\n      <td>9</td>\n      <td>Never-married</td>\n      <td>Other-service</td>\n      <td>Not-in-family</td>\n      <td>Black</td>\n      <td>Male</td>\n      <td>0</td>\n      <td>0</td>\n      <td>40</td>\n      <td>?</td>\n      <td>&lt;=50K</td>\n      <td>144593</td>\n    </tr>\n    <tr>\n      <th>18698</th>\n      <td>19</td>\n      <td>Private</td>\n      <td>97261</td>\n      <td>HS-grad</td>\n      <td>9</td>\n      <td>Never-married</td>\n      <td>Farming-fishing</td>\n      <td>Not-in-family</td>\n      <td>White</td>\n      <td>Male</td>\n      <td>0</td>\n      <td>0</td>\n      <td>40</td>\n      <td>United-States</td>\n      <td>&lt;=50K</td>\n      <td>97261</td>\n    </tr>\n    <tr>\n      <th>21318</th>\n      <td>19</td>\n      <td>Private</td>\n      <td>138153</td>\n      <td>Some-college</td>\n      <td>10</td>\n      <td>Never-married</td>\n      <td>Adm-clerical</td>\n      <td>Own-child</td>\n      <td>White</td>\n      <td>Female</td>\n      <td>0</td>\n      <td>0</td>\n      <td>10</td>\n      <td>United-States</td>\n      <td>&lt;=50K</td>\n      <td>138153</td>\n    </tr>\n    <tr>\n      <th>21490</th>\n      <td>19</td>\n      <td>Private</td>\n      <td>146679</td>\n      <td>Some-college</td>\n      <td>10</td>\n      <td>Never-married</td>\n      <td>Exec-managerial</td>\n      <td>Own-child</td>\n      <td>Black</td>\n      <td>Male</td>\n      <td>0</td>\n      <td>0</td>\n      <td>30</td>\n      <td>United-States</td>\n      <td>&lt;=50K</td>\n      <td>146679</td>\n    </tr>\n    <tr>\n      <th>21875</th>\n      <td>49</td>\n      <td>Private</td>\n      <td>31267</td>\n      <td>7th-8th</td>\n      <td>4</td>\n      <td>Married-civ-spouse</td>\n      <td>Craft-repair</td>\n      <td>Husband</td>\n      <td>White</td>\n      <td>Male</td>\n      <td>0</td>\n      <td>0</td>\n      <td>40</td>\n      <td>United-States</td>\n      <td>&lt;=50K</td>\n      <td>31267</td>\n    </tr>\n    <tr>\n      <th>22300</th>\n      <td>25</td>\n      <td>Private</td>\n      <td>195994</td>\n      <td>1st-4th</td>\n      <td>2</td>\n      <td>Never-married</td>\n      <td>Priv-house-serv</td>\n      <td>Not-in-family</td>\n      <td>White</td>\n      <td>Female</td>\n      <td>0</td>\n      <td>0</td>\n      <td>40</td>\n      <td>Guatemala</td>\n      <td>&lt;=50K</td>\n      <td>195994</td>\n    </tr>\n    <tr>\n      <th>22367</th>\n      <td>44</td>\n      <td>Private</td>\n      <td>367749</td>\n      <td>Bachelors</td>\n      <td>13</td>\n      <td>Never-married</td>\n      <td>Prof-specialty</td>\n      <td>Not-in-family</td>\n      <td>White</td>\n      <td>Female</td>\n      <td>0</td>\n      <td>0</td>\n      <td>45</td>\n      <td>Mexico</td>\n      <td>&lt;=50K</td>\n      <td>367749</td>\n    </tr>\n    <tr>\n      <th>22494</th>\n      <td>49</td>\n      <td>Self-emp-not-inc</td>\n      <td>43479</td>\n      <td>Some-college</td>\n      <td>10</td>\n      <td>Married-civ-spouse</td>\n      <td>Craft-repair</td>\n      <td>Husband</td>\n      <td>White</td>\n      <td>Male</td>\n      <td>0</td>\n      <td>0</td>\n      <td>40</td>\n      <td>United-States</td>\n      <td>&lt;=50K</td>\n      <td>43479</td>\n    </tr>\n    <tr>\n      <th>25872</th>\n      <td>23</td>\n      <td>Private</td>\n      <td>240137</td>\n      <td>5th-6th</td>\n      <td>3</td>\n      <td>Never-married</td>\n      <td>Handlers-cleaners</td>\n      <td>Not-in-family</td>\n      <td>White</td>\n      <td>Male</td>\n      <td>0</td>\n      <td>0</td>\n      <td>55</td>\n      <td>Mexico</td>\n      <td>&lt;=50K</td>\n      <td>240137</td>\n    </tr>\n    <tr>\n      <th>26313</th>\n      <td>28</td>\n      <td>Private</td>\n      <td>274679</td>\n      <td>Masters</td>\n      <td>14</td>\n      <td>Never-married</td>\n      <td>Prof-specialty</td>\n      <td>Not-in-family</td>\n      <td>White</td>\n      <td>Male</td>\n      <td>0</td>\n      <td>0</td>\n      <td>50</td>\n      <td>United-States</td>\n      <td>&lt;=50K</td>\n      <td>274679</td>\n    </tr>\n    <tr>\n      <th>28230</th>\n      <td>27</td>\n      <td>Private</td>\n      <td>255582</td>\n      <td>HS-grad</td>\n      <td>9</td>\n      <td>Never-married</td>\n      <td>Machine-op-inspct</td>\n      <td>Not-in-family</td>\n      <td>White</td>\n      <td>Female</td>\n      <td>0</td>\n      <td>0</td>\n      <td>40</td>\n      <td>United-States</td>\n      <td>&lt;=50K</td>\n      <td>255582</td>\n    </tr>\n    <tr>\n      <th>28522</th>\n      <td>42</td>\n      <td>Private</td>\n      <td>204235</td>\n      <td>Some-college</td>\n      <td>10</td>\n      <td>Married-civ-spouse</td>\n      <td>Prof-specialty</td>\n      <td>Husband</td>\n      <td>White</td>\n      <td>Male</td>\n      <td>0</td>\n      <td>0</td>\n      <td>40</td>\n      <td>United-States</td>\n      <td>&gt;50K</td>\n      <td>204235</td>\n    </tr>\n    <tr>\n      <th>28846</th>\n      <td>39</td>\n      <td>Private</td>\n      <td>30916</td>\n      <td>HS-grad</td>\n      <td>9</td>\n      <td>Married-civ-spouse</td>\n      <td>Craft-repair</td>\n      <td>Husband</td>\n      <td>White</td>\n      <td>Male</td>\n      <td>0</td>\n      <td>0</td>\n      <td>40</td>\n      <td>United-States</td>\n      <td>&lt;=50K</td>\n      <td>30916</td>\n    </tr>\n    <tr>\n      <th>29157</th>\n      <td>38</td>\n      <td>Private</td>\n      <td>207202</td>\n      <td>HS-grad</td>\n      <td>9</td>\n      <td>Married-civ-spouse</td>\n      <td>Machine-op-inspct</td>\n      <td>Husband</td>\n      <td>White</td>\n      <td>Male</td>\n      <td>0</td>\n      <td>0</td>\n      <td>48</td>\n      <td>United-States</td>\n      <td>&gt;50K</td>\n      <td>207202</td>\n    </tr>\n    <tr>\n      <th>30845</th>\n      <td>46</td>\n      <td>Private</td>\n      <td>133616</td>\n      <td>Some-college</td>\n      <td>10</td>\n      <td>Divorced</td>\n      <td>Adm-clerical</td>\n      <td>Unmarried</td>\n      <td>White</td>\n      <td>Female</td>\n      <td>0</td>\n      <td>0</td>\n      <td>40</td>\n      <td>United-States</td>\n      <td>&lt;=50K</td>\n      <td>133616</td>\n    </tr>\n    <tr>\n      <th>31993</th>\n      <td>19</td>\n      <td>Private</td>\n      <td>251579</td>\n      <td>Some-college</td>\n      <td>10</td>\n      <td>Never-married</td>\n      <td>Other-service</td>\n      <td>Own-child</td>\n      <td>White</td>\n      <td>Male</td>\n      <td>0</td>\n      <td>0</td>\n      <td>14</td>\n      <td>United-States</td>\n      <td>&lt;=50K</td>\n      <td>251579</td>\n    </tr>\n    <tr>\n      <th>32404</th>\n      <td>35</td>\n      <td>Private</td>\n      <td>379959</td>\n      <td>HS-grad</td>\n      <td>9</td>\n      <td>Divorced</td>\n      <td>Other-service</td>\n      <td>Not-in-family</td>\n      <td>White</td>\n      <td>Female</td>\n      <td>0</td>\n      <td>0</td>\n      <td>40</td>\n      <td>United-States</td>\n      <td>&lt;=50K</td>\n      <td>379959</td>\n    </tr>\n  </tbody>\n</table>\n</div>"
     },
     "execution_count": 89,
     "metadata": {},
     "output_type": "execute_result"
    }
   ],
   "source": [
    "print(\"Data Duplikat: \")\n",
    "df[df.duplicated()]"
   ],
   "metadata": {
    "collapsed": false
   }
  },
  {
   "cell_type": "code",
   "execution_count": 90,
   "outputs": [
    {
     "name": "stdout",
     "output_type": "stream",
     "text": [
      "Data Duplikat: \n"
     ]
    },
    {
     "data": {
      "text/plain": "Empty DataFrame\nColumns: [age,  workclass,  fnlwgt,  education,  education-num,  marital-status,  occupation,  relationship,  race,  sex,  capital-gain,  capital-loss,  hours-per-week,  native-country,  income, fnlwgt]\nIndex: []",
      "text/html": "<div>\n<style scoped>\n    .dataframe tbody tr th:only-of-type {\n        vertical-align: middle;\n    }\n\n    .dataframe tbody tr th {\n        vertical-align: top;\n    }\n\n    .dataframe thead th {\n        text-align: right;\n    }\n</style>\n<table border=\"1\" class=\"dataframe\">\n  <thead>\n    <tr style=\"text-align: right;\">\n      <th></th>\n      <th>age</th>\n      <th>workclass</th>\n      <th>fnlwgt</th>\n      <th>education</th>\n      <th>education-num</th>\n      <th>marital-status</th>\n      <th>occupation</th>\n      <th>relationship</th>\n      <th>race</th>\n      <th>sex</th>\n      <th>capital-gain</th>\n      <th>capital-loss</th>\n      <th>hours-per-week</th>\n      <th>native-country</th>\n      <th>income</th>\n      <th>fnlwgt</th>\n    </tr>\n  </thead>\n  <tbody>\n  </tbody>\n</table>\n</div>"
     },
     "execution_count": 90,
     "metadata": {},
     "output_type": "execute_result"
    }
   ],
   "source": [
    "df.drop_duplicates(inplace=True)\n",
    "\n",
    "print(\"Data Duplikat: \")\n",
    "df[df.duplicated()]"
   ],
   "metadata": {
    "collapsed": false
   }
  },
  {
   "cell_type": "markdown",
   "source": [
    "## OneHot Encoding"
   ],
   "metadata": {
    "collapsed": false
   }
  },
  {
   "cell_type": "code",
   "execution_count": 91,
   "outputs": [],
   "source": [
    "encoder = OneHotEncoder(sparse=False)\n",
    "sexEnc = encoder.fit_transform(df[[\" sex\"]])"
   ],
   "metadata": {
    "collapsed": false
   }
  },
  {
   "cell_type": "code",
   "execution_count": 92,
   "outputs": [],
   "source": [
    "sex = pd.DataFrame(sexEnc)\n",
    "df = df.join(sex)\n",
    "\n",
    "df = df.rename(columns={\n",
    "    0 : 'Female',\n",
    "    1 : 'Male'\n",
    "})"
   ],
   "metadata": {
    "collapsed": false
   }
  },
  {
   "cell_type": "code",
   "execution_count": 93,
   "outputs": [
    {
     "data": {
      "text/plain": "   age          workclass   fnlwgt   education   education-num  \\\n0   39          State-gov    77516   Bachelors              13   \n1   50   Self-emp-not-inc    83311   Bachelors              13   \n2   38            Private   215646     HS-grad               9   \n3   53            Private   234721        11th               7   \n4   28            Private   338409   Bachelors              13   \n\n        marital-status          occupation    relationship    race      sex  \\\n0        Never-married        Adm-clerical   Not-in-family   White     Male   \n1   Married-civ-spouse     Exec-managerial         Husband   White     Male   \n2             Divorced   Handlers-cleaners   Not-in-family   White     Male   \n3   Married-civ-spouse   Handlers-cleaners         Husband   Black     Male   \n4   Married-civ-spouse      Prof-specialty            Wife   Black   Female   \n\n    capital-gain   capital-loss   hours-per-week  native-country  income  \\\n0           2174              0               40   United-States   <=50K   \n1              0              0               13   United-States   <=50K   \n2              0              0               40   United-States   <=50K   \n3              0              0               40   United-States   <=50K   \n4              0              0               40            Cuba   <=50K   \n\n   fnlwgt  Female  Male  \n0   77516     0.0   1.0  \n1   83311     0.0   1.0  \n2  215646     0.0   1.0  \n3  234721     0.0   1.0  \n4  338409     1.0   0.0  ",
      "text/html": "<div>\n<style scoped>\n    .dataframe tbody tr th:only-of-type {\n        vertical-align: middle;\n    }\n\n    .dataframe tbody tr th {\n        vertical-align: top;\n    }\n\n    .dataframe thead th {\n        text-align: right;\n    }\n</style>\n<table border=\"1\" class=\"dataframe\">\n  <thead>\n    <tr style=\"text-align: right;\">\n      <th></th>\n      <th>age</th>\n      <th>workclass</th>\n      <th>fnlwgt</th>\n      <th>education</th>\n      <th>education-num</th>\n      <th>marital-status</th>\n      <th>occupation</th>\n      <th>relationship</th>\n      <th>race</th>\n      <th>sex</th>\n      <th>capital-gain</th>\n      <th>capital-loss</th>\n      <th>hours-per-week</th>\n      <th>native-country</th>\n      <th>income</th>\n      <th>fnlwgt</th>\n      <th>Female</th>\n      <th>Male</th>\n    </tr>\n  </thead>\n  <tbody>\n    <tr>\n      <th>0</th>\n      <td>39</td>\n      <td>State-gov</td>\n      <td>77516</td>\n      <td>Bachelors</td>\n      <td>13</td>\n      <td>Never-married</td>\n      <td>Adm-clerical</td>\n      <td>Not-in-family</td>\n      <td>White</td>\n      <td>Male</td>\n      <td>2174</td>\n      <td>0</td>\n      <td>40</td>\n      <td>United-States</td>\n      <td>&lt;=50K</td>\n      <td>77516</td>\n      <td>0.0</td>\n      <td>1.0</td>\n    </tr>\n    <tr>\n      <th>1</th>\n      <td>50</td>\n      <td>Self-emp-not-inc</td>\n      <td>83311</td>\n      <td>Bachelors</td>\n      <td>13</td>\n      <td>Married-civ-spouse</td>\n      <td>Exec-managerial</td>\n      <td>Husband</td>\n      <td>White</td>\n      <td>Male</td>\n      <td>0</td>\n      <td>0</td>\n      <td>13</td>\n      <td>United-States</td>\n      <td>&lt;=50K</td>\n      <td>83311</td>\n      <td>0.0</td>\n      <td>1.0</td>\n    </tr>\n    <tr>\n      <th>2</th>\n      <td>38</td>\n      <td>Private</td>\n      <td>215646</td>\n      <td>HS-grad</td>\n      <td>9</td>\n      <td>Divorced</td>\n      <td>Handlers-cleaners</td>\n      <td>Not-in-family</td>\n      <td>White</td>\n      <td>Male</td>\n      <td>0</td>\n      <td>0</td>\n      <td>40</td>\n      <td>United-States</td>\n      <td>&lt;=50K</td>\n      <td>215646</td>\n      <td>0.0</td>\n      <td>1.0</td>\n    </tr>\n    <tr>\n      <th>3</th>\n      <td>53</td>\n      <td>Private</td>\n      <td>234721</td>\n      <td>11th</td>\n      <td>7</td>\n      <td>Married-civ-spouse</td>\n      <td>Handlers-cleaners</td>\n      <td>Husband</td>\n      <td>Black</td>\n      <td>Male</td>\n      <td>0</td>\n      <td>0</td>\n      <td>40</td>\n      <td>United-States</td>\n      <td>&lt;=50K</td>\n      <td>234721</td>\n      <td>0.0</td>\n      <td>1.0</td>\n    </tr>\n    <tr>\n      <th>4</th>\n      <td>28</td>\n      <td>Private</td>\n      <td>338409</td>\n      <td>Bachelors</td>\n      <td>13</td>\n      <td>Married-civ-spouse</td>\n      <td>Prof-specialty</td>\n      <td>Wife</td>\n      <td>Black</td>\n      <td>Female</td>\n      <td>0</td>\n      <td>0</td>\n      <td>40</td>\n      <td>Cuba</td>\n      <td>&lt;=50K</td>\n      <td>338409</td>\n      <td>1.0</td>\n      <td>0.0</td>\n    </tr>\n  </tbody>\n</table>\n</div>"
     },
     "execution_count": 93,
     "metadata": {},
     "output_type": "execute_result"
    }
   ],
   "source": [
    "df.head()"
   ],
   "metadata": {
    "collapsed": false
   }
  }
 ],
 "metadata": {
  "kernelspec": {
   "display_name": "Python 3",
   "language": "python",
   "name": "python3"
  },
  "language_info": {
   "codemirror_mode": {
    "name": "ipython",
    "version": 2
   },
   "file_extension": ".py",
   "mimetype": "text/x-python",
   "name": "python",
   "nbconvert_exporter": "python",
   "pygments_lexer": "ipython2",
   "version": "2.7.6"
  }
 },
 "nbformat": 4,
 "nbformat_minor": 0
}
