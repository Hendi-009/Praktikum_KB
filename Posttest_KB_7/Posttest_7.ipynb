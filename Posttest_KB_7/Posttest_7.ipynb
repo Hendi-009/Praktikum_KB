{
 "cells": [
  {
   "cell_type": "markdown",
   "source": [
    "# Posttest_7\n",
    "Nama  : Hendi\n",
    "NIM   : 2009106009\n",
    "Kelas : Praktikum Kecerdasn Buatan A1 2020"
   ],
   "metadata": {
    "collapsed": false
   }
  },
  {
   "cell_type": "markdown",
   "source": [
    "## Import Library"
   ],
   "metadata": {
    "collapsed": false
   }
  },
  {
   "cell_type": "code",
   "execution_count": 29,
   "outputs": [],
   "source": [
    "import tensorflow as tf"
   ],
   "metadata": {
    "collapsed": false
   }
  },
  {
   "cell_type": "markdown",
   "source": [
    "## Random"
   ],
   "metadata": {
    "collapsed": false
   }
  },
  {
   "cell_type": "code",
   "execution_count": 30,
   "outputs": [
    {
     "data": {
      "text/plain": "array([[-0.32386488,  0.99133694,  0.14024267,  1.2573972 ,  0.09992335],\n       [ 0.18983224, -0.28711194, -1.7413595 ,  1.8718754 , -2.0104504 ],\n       [-1.4673029 , -1.2721989 , -0.7803738 ,  0.94073033, -0.06164822],\n       [-2.0842526 ,  0.61423135, -1.451092  , -0.88693523, -0.96740866],\n       [ 0.94831836, -0.6974499 ,  0.5391437 , -0.52970064, -2.0105364 ]],\n      dtype=float32)"
     },
     "execution_count": 30,
     "metadata": {},
     "output_type": "execute_result"
    }
   ],
   "source": [
    "random_tensor = tf.random.normal([5,5],mean=0,stddev=1,seed=1)\n",
    "\n",
    "random_tensor.numpy()"
   ],
   "metadata": {
    "collapsed": false
   }
  },
  {
   "cell_type": "markdown",
   "source": [
    "## Prima"
   ],
   "metadata": {
    "collapsed": false
   }
  },
  {
   "cell_type": "code",
   "execution_count": 31,
   "outputs": [
    {
     "data": {
      "text/plain": "array([[ 2.,  3.,  5.,  7., 11.],\n       [13., 17., 19., 23., 29.],\n       [31., 37., 41., 43., 47.],\n       [53., 59., 61., 67., 71.],\n       [73., 79., 83., 89., 97.]], dtype=float32)"
     },
     "execution_count": 31,
     "metadata": {},
     "output_type": "execute_result"
    }
   ],
   "source": [
    "prima = [[2,3,5,7,11],[13,17,19,23,29],[31,37,41,43,47],[53,59,61,67,71],[73,79,83,89,97]]\n",
    "\n",
    "prime_tensor = tf.convert_to_tensor(prima, dtype=tf.float32)\n",
    "\n",
    "prime_tensor.numpy()"
   ],
   "metadata": {
    "collapsed": false
   }
  },
  {
   "cell_type": "markdown",
   "source": [
    "## Dimensi Tensor"
   ],
   "metadata": {
    "collapsed": false
   }
  },
  {
   "cell_type": "code",
   "execution_count": 32,
   "outputs": [
    {
     "data": {
      "text/plain": "TensorShape([5, 5])"
     },
     "execution_count": 32,
     "metadata": {},
     "output_type": "execute_result"
    }
   ],
   "source": [
    "random_tensor.get_shape()\n",
    "random_tensor.shape"
   ],
   "metadata": {
    "collapsed": false
   }
  },
  {
   "cell_type": "code",
   "execution_count": 33,
   "outputs": [
    {
     "data": {
      "text/plain": "TensorShape([5, 5])"
     },
     "execution_count": 33,
     "metadata": {},
     "output_type": "execute_result"
    }
   ],
   "source": [
    "tf.shape(prime_tensor).numpy()\n",
    "prime_tensor.shape"
   ],
   "metadata": {
    "collapsed": false
   }
  },
  {
   "cell_type": "markdown",
   "source": [
    "## Artimatika"
   ],
   "metadata": {
    "collapsed": false
   }
  },
  {
   "cell_type": "markdown",
   "source": [
    "### Tambah"
   ],
   "metadata": {
    "collapsed": false
   }
  },
  {
   "cell_type": "code",
   "execution_count": 34,
   "outputs": [
    {
     "name": "stdout",
     "output_type": "stream",
     "text": [
      "tf.Tensor(\n",
      "[[ 1.6761351  3.9913368  5.1402426  8.257397  11.099923 ]\n",
      " [13.189833  16.712889  17.25864   24.871876  26.98955  ]\n",
      " [29.532698  35.727802  40.219627  43.94073   46.93835  ]\n",
      " [50.91575   59.61423   59.54891   66.11307   70.03259  ]\n",
      " [73.94832   78.30255   83.53915   88.4703    94.98946  ]], shape=(5, 5), dtype=float32)\n"
     ]
    }
   ],
   "source": [
    "print(tf.add(random_tensor, prime_tensor))"
   ],
   "metadata": {
    "collapsed": false
   }
  },
  {
   "cell_type": "markdown",
   "source": [
    "### Kurang"
   ],
   "metadata": {
    "collapsed": false
   }
  },
  {
   "cell_type": "code",
   "execution_count": 35,
   "outputs": [
    {
     "name": "stdout",
     "output_type": "stream",
     "text": [
      "tf.Tensor(\n",
      "[[ -2.323865   -2.0086632  -4.8597574  -5.742603  -10.900077 ]\n",
      " [-12.810167  -17.287111  -20.74136   -21.128124  -31.01045  ]\n",
      " [-32.467304  -38.272198  -41.780373  -42.05927   -47.06165  ]\n",
      " [-55.08425   -58.38577   -62.45109   -67.88693   -71.96741  ]\n",
      " [-72.05168   -79.69745   -82.46085   -89.5297    -99.01054  ]], shape=(5, 5), dtype=float32)\n"
     ]
    }
   ],
   "source": [
    "print(tf.subtract(random_tensor, prime_tensor))"
   ],
   "metadata": {
    "collapsed": false
   }
  },
  {
   "cell_type": "markdown",
   "source": [
    "### Kali"
   ],
   "metadata": {
    "collapsed": false
   }
  },
  {
   "cell_type": "code",
   "execution_count": 36,
   "outputs": [
    {
     "name": "stdout",
     "output_type": "stream",
     "text": [
      "tf.Tensor(\n",
      "[[-0.16193244  0.33044565  0.02804853  0.17962816  0.00908394]\n",
      " [ 0.01460248 -0.01688894 -0.0916505   0.08138589 -0.06932587]\n",
      " [-0.04733235 -0.03438376 -0.01903351  0.02187745 -0.00131166]\n",
      " [-0.03932552  0.0104107  -0.02378839 -0.01323784 -0.01362547]\n",
      " [ 0.01299066 -0.00882848  0.00649571 -0.00595169 -0.02072718]], shape=(5, 5), dtype=float32)\n"
     ]
    }
   ],
   "source": [
    "print(tf.divide(random_tensor, prime_tensor))"
   ],
   "metadata": {
    "collapsed": false
   }
  },
  {
   "cell_type": "markdown",
   "source": [
    "### Log"
   ],
   "metadata": {
    "collapsed": false
   }
  },
  {
   "cell_type": "code",
   "execution_count": 37,
   "outputs": [
    {
     "name": "stdout",
     "output_type": "stream",
     "text": [
      "tf.Tensor(\n",
      "[[        nan -0.0087008  -1.964381    0.22904386 -2.3033519 ]\n",
      " [-1.6616145          nan         nan  0.62694085         nan]\n",
      " [        nan         nan         nan -0.06109876         nan]\n",
      " [        nan -0.48738366         nan         nan         nan]\n",
      " [-0.05306501         nan -0.6177732          nan         nan]], shape=(5, 5), dtype=float32)\n"
     ]
    }
   ],
   "source": [
    "print(tf.math.log(random_tensor, prime_tensor))"
   ],
   "metadata": {
    "collapsed": false
   }
  },
  {
   "cell_type": "markdown",
   "source": [
    "### Pangkat"
   ],
   "metadata": {
    "collapsed": false
   }
  },
  {
   "cell_type": "code",
   "execution_count": 38,
   "outputs": [
    {
     "name": "stdout",
     "output_type": "stream",
     "text": [
      "tf.Tensor(\n",
      "[[ 1.0488846e-01  9.7423530e-01  5.4250133e-05  4.9694390e+00\n",
      "   9.9160073e-12]\n",
      " [ 4.1572837e-10 -6.1216887e-10 -3.7746809e+04  1.8296565e+06\n",
      "  -6.2446387e+08]\n",
      " [-1.4524903e+05 -7.3881514e+03 -3.8406979e-05  7.2277203e-02\n",
      "  -0.0000000e+00]\n",
      " [-8.0235882e+16  3.2477805e-13 -7.3011604e+09 -3.2266942e-04\n",
      "  -9.5127881e-02]\n",
      " [ 2.0780388e-02 -4.3403966e-13  5.3885902e-23 -2.7460855e-25\n",
      "  -2.6379033e+29]], shape=(5, 5), dtype=float32)\n"
     ]
    }
   ],
   "source": [
    "print(tf.pow(random_tensor, prime_tensor))"
   ],
   "metadata": {
    "collapsed": false
   }
  },
  {
   "cell_type": "markdown",
   "source": [
    "## Nilai Maksimum"
   ],
   "metadata": {
    "collapsed": false
   }
  },
  {
   "cell_type": "code",
   "execution_count": 39,
   "outputs": [
    {
     "name": "stdout",
     "output_type": "stream",
     "text": [
      "tf.Tensor(\n",
      "[[ 1.2573972   0.99133694  0.14024267  0.09992335 -0.32386488]\n",
      " [ 1.8718754   0.18983224 -0.28711194 -1.7413595  -2.0104504 ]\n",
      " [ 0.94073033 -0.06164822 -0.7803738  -1.2721989  -1.4673029 ]\n",
      " [ 0.61423135 -0.88693523 -0.96740866 -1.451092   -2.0842526 ]\n",
      " [ 0.94831836  0.5391437  -0.52970064 -0.6974499  -2.0105364 ]], shape=(5, 5), dtype=float32)\n"
     ]
    }
   ],
   "source": [
    "print(tf.sort(random_tensor, direction='DESCENDING'))"
   ],
   "metadata": {
    "collapsed": false
   }
  },
  {
   "cell_type": "code",
   "execution_count": 40,
   "outputs": [
    {
     "name": "stdout",
     "output_type": "stream",
     "text": [
      "tf.Tensor(\n",
      "[[3 1 2 4 0]\n",
      " [3 0 1 2 4]\n",
      " [3 4 2 1 0]\n",
      " [1 3 4 2 0]\n",
      " [0 2 3 1 4]], shape=(5, 5), dtype=int32)\n"
     ]
    }
   ],
   "source": [
    "print(tf.argsort(random_tensor, direction='DESCENDING'))"
   ],
   "metadata": {
    "collapsed": false
   }
  },
  {
   "cell_type": "markdown",
   "source": [
    "## Nilai Minimum"
   ],
   "metadata": {
    "collapsed": false
   }
  },
  {
   "cell_type": "code",
   "execution_count": 41,
   "outputs": [
    {
     "name": "stdout",
     "output_type": "stream",
     "text": [
      "tf.Tensor(\n",
      "[[ 1.2573972   0.99133694  0.14024267  0.09992335 -0.32386488]\n",
      " [ 1.8718754   0.18983224 -0.28711194 -1.7413595  -2.0104504 ]\n",
      " [ 0.94073033 -0.06164822 -0.7803738  -1.2721989  -1.4673029 ]\n",
      " [ 0.61423135 -0.88693523 -0.96740866 -1.451092   -2.0842526 ]\n",
      " [ 0.94831836  0.5391437  -0.52970064 -0.6974499  -2.0105364 ]], shape=(5, 5), dtype=float32)\n"
     ]
    }
   ],
   "source": [
    "print(tf.sort(random_tensor, direction='DESCENDING'))"
   ],
   "metadata": {
    "collapsed": false
   }
  },
  {
   "cell_type": "code",
   "execution_count": 42,
   "outputs": [
    {
     "name": "stdout",
     "output_type": "stream",
     "text": [
      "tf.Tensor(\n",
      "[[3 1 2 4 0]\n",
      " [3 0 1 2 4]\n",
      " [3 4 2 1 0]\n",
      " [1 3 4 2 0]\n",
      " [0 2 3 1 4]], shape=(5, 5), dtype=int32)\n"
     ]
    }
   ],
   "source": [
    "print(tf.argsort(random_tensor, direction='DESCENDING'))"
   ],
   "metadata": {
    "collapsed": false
   }
  },
  {
   "cell_type": "markdown",
   "source": [
    "## Concatenation"
   ],
   "metadata": {
    "collapsed": false
   }
  },
  {
   "cell_type": "code",
   "execution_count": 43,
   "outputs": [
    {
     "name": "stdout",
     "output_type": "stream",
     "text": [
      "Sebelum : (5, 5) (5, 5)\n"
     ]
    }
   ],
   "source": [
    "print(f\"Sebelum : {random_tensor.shape} {prime_tensor.shape}\")"
   ],
   "metadata": {
    "collapsed": false
   }
  },
  {
   "cell_type": "code",
   "execution_count": 44,
   "outputs": [
    {
     "name": "stdout",
     "output_type": "stream",
     "text": [
      "Sesudah : (10, 5)\n"
     ]
    }
   ],
   "source": [
    "concat_sample = tf.concat([random_tensor, prime_tensor], axis=0)\n",
    "print(f\"Sesudah : {concat_sample.shape}\")"
   ],
   "metadata": {
    "collapsed": false
   }
  },
  {
   "cell_type": "markdown",
   "source": [
    "## Urutkan"
   ],
   "metadata": {
    "collapsed": false
   }
  },
  {
   "cell_type": "code",
   "execution_count": 45,
   "outputs": [
    {
     "name": "stdout",
     "output_type": "stream",
     "text": [
      "tf.Tensor(\n",
      "[[ 1.2573972   0.99133694  0.14024267  0.09992335 -0.32386488]\n",
      " [ 1.8718754   0.18983224 -0.28711194 -1.7413595  -2.0104504 ]\n",
      " [ 0.94073033 -0.06164822 -0.7803738  -1.2721989  -1.4673029 ]\n",
      " [ 0.61423135 -0.88693523 -0.96740866 -1.451092   -2.0842526 ]\n",
      " [ 0.94831836  0.5391437  -0.52970064 -0.6974499  -2.0105364 ]], shape=(5, 5), dtype=float32)\n"
     ]
    }
   ],
   "source": [
    "print(tf.sort(random_tensor, direction=\"DESCENDING\"))"
   ],
   "metadata": {
    "collapsed": false
   }
  },
  {
   "cell_type": "code",
   "execution_count": 46,
   "outputs": [
    {
     "name": "stdout",
     "output_type": "stream",
     "text": [
      "tf.Tensor(\n",
      "[[11.  7.  5.  3.  2.]\n",
      " [29. 23. 19. 17. 13.]\n",
      " [47. 43. 41. 37. 31.]\n",
      " [71. 67. 61. 59. 53.]\n",
      " [97. 89. 83. 79. 73.]], shape=(5, 5), dtype=float32)\n"
     ]
    }
   ],
   "source": [
    "print(tf.sort(prime_tensor, direction=\"DESCENDING\"))"
   ],
   "metadata": {
    "collapsed": false
   }
  }
 ],
 "metadata": {
  "kernelspec": {
   "display_name": "Python 3",
   "language": "python",
   "name": "python3"
  },
  "language_info": {
   "codemirror_mode": {
    "name": "ipython",
    "version": 2
   },
   "file_extension": ".py",
   "mimetype": "text/x-python",
   "name": "python",
   "nbconvert_exporter": "python",
   "pygments_lexer": "ipython2",
   "version": "2.7.6"
  }
 },
 "nbformat": 4,
 "nbformat_minor": 0
}
